{
 "cells": [
  {
   "cell_type": "markdown",
   "metadata": {},
   "source": [
    "# FP auction: numerical approximation of optimal bidding"
   ]
  },
  {
   "cell_type": "markdown",
   "metadata": {},
   "source": [
    "Before we start, we import the following packages which provide useful functionalities."
   ]
  },
  {
   "cell_type": "code",
   "execution_count": 1,
   "metadata": {},
   "outputs": [],
   "source": [
    "import numpy as np # all kind of vector operations; basic statistics \n",
    "                   # (mean, std); random sampling\n",
    "import pandas as pd # matrix (spreadsheet-like) data structure - \n",
    "                    # useful for some calculations\n",
    "from scipy import integrate # approximates functions from system of \n",
    "                            # differential equations\n",
    "from scipy import stats # t-test and p-value\n",
    "import matplotlib.pyplot as plt # plots\n",
    "from pathlib import Path # directory functions to be able to save \n",
    "                         # plots"
   ]
  },
  {
   "cell_type": "markdown",
   "metadata": {},
   "source": [
    "# Table of contents\n",
    "1. [Auction Simulation](#auc_sim)\n",
    "    1. [Differential equation approximation](#diff_approx)\n",
    "        1. [Differential equations](#diff_eq)\n",
    "        2. [Evaluation of guessed $\\bar{\\beta}$](#eval)\n",
    "        3. [Adjustment algorithm](#adj_alg)\n",
    "        4. [Approximation](#solver)\n",
    "    2. [One-round simulation](#one_round)\n",
    "        1. [Bids of randomly drawn valuations](#v_to_b)\n",
    "            1. [cdf draws](#cdf_draw)\n",
    "            2. [cdf to valuation](#cdf_value)\n",
    "            3. [valuation to grid](#v_grid)\n",
    "            4. [Grid-valuation to bid](#grid_to_bid)\n",
    "        2. [Collecting Results](#results)\n",
    "            1. [Granular results](#granular)\n",
    "            2. [Aggregated results](#agg_results)\n",
    "        3. [Isolated simulation](#iso_sim)\n",
    "    3. [Main simulation](#main_sim)\n",
    "        1. [Repeated isolated simulations](#rep_iso_sim)\n",
    "        2. [Statistical results](#stat_results)\n",
    "2. [Figures](#figures)\n",
    "    1. [Figures of bidding strategies](#bid_plot)\n",
    "    2. [Figures of one-round simulation](#one_round_plot)\n",
    "        1. [50 auctions](#one_round_auction_plot)\n",
    "        2. [Histogram](#one_round_dist_plot)\n",
    "    3. [Figures of main simulation](#main_sim_plot)\n",
    "        1. [All iterations](#main_auction_plot)\n",
    "        2. [Histogram](#main_dist_plot)"
   ]
  },
  {
   "cell_type": "markdown",
   "metadata": {},
   "source": [
    "# 1. Auction Simulation <a name='auc_sim'> </a>\n",
    "For the derivation of PBE equilibria, we need to compare the expected prices of the $FP$ and $SP$ auction. The $FP$ auction does not have closed-form solutions for some beliefs of buyer $1$. To receive an estimate of the $FP$ expected price, we create a script that gives a numerical approximation. <br>\n",
    "The script has the following structure. First, we program an algorithm that receives as inputs the system of differential equations and approximates the optimal inverse bid functions. Then we inverse the functions to the optimal bid functions and simulate 1000 auctions to receive the mean as an estimator of the expected price. Thirdly, we run the simulation 100 times to determine the standard errors (and the mean of mean prices) to be able to statistically test whether the simulated $FP$ price is significantly different from the $SP$ price."
   ]
  },
  {
   "cell_type": "markdown",
   "metadata": {},
   "source": [
    "## 1.A. Differential equation approximation <a name=\"diff_approx\"> </a>\n",
    "We approximate the inverse optimal bid functions from the system of differential equations. <br>\n",
    "To achieve this, we first define the system of differential equations. Then we implement the adjustment algorithm, which brings the guess of $\\bar{\\beta}$ closer to the true $\\bar{\\beta}$. Finally, we introduce the solver, which utilizes the adjustment algorithm to receive a guessed $\\bar{\\beta}$ sufficiently close to the true $\\bar{\\beta}$. The solver returns the approximated inverse optimal bid functions."
   ]
  },
  {
   "cell_type": "markdown",
   "metadata": {},
   "source": [
    "### 1.A.a. Differential equations <a name='diff_eq'> </a>\n",
    "We define the differential equations of the high-type and the low-type, each matching with the \"uniform-type\". <br>\n",
    "The variables are defined as follows: $dxdt \\equiv \\phi_2^{'}$, $x \\equiv \\phi_2$, $y \\equiv \\phi_1$, and $t \\equiv b$. \n",
    "Note that the differences in the equations of the different types come from dividing $F_{type}(\\cdot)$ by $f_{type}(\\cdot)$ which have different functional forms for the different beliefs about types. The system of differential equations functions have the inputs and outputs structured according to the needs of the approximation function."
   ]
  },
  {
   "cell_type": "code",
   "execution_count": 2,
   "metadata": {},
   "outputs": [],
   "source": [
    "def diff_eq_high(t, z): \n",
    "    x, y = z\n",
    "    dxdt = 1 / (y-t) * (x / 1)\n",
    "    dydt = 1 / (x-t) * (0.5*y + 0.5*y**2) / (0.5 + y)\n",
    "    return [dxdt, dydt]\n",
    "\n",
    "def diff_eq_low(t, z):\n",
    "    x, y = z\n",
    "    dxdt = 1 / (y-t) * (x / 1)\n",
    "    dydt = 1 / (x-t) * (1.5*y - 0.5*y**2) / (1.5 - y)\n",
    "    return [dxdt, dydt]"
   ]
  },
  {
   "cell_type": "markdown",
   "metadata": {},
   "source": [
    "### 1.A.b Evaluation of guessed $\\bar{\\beta}$ <a name='eval'> </a>\n",
    "The evaluation algorithm determines whether the guessed $\\bar{b}$ is sufficiently close to its true value or needs an adjustment. The direction of the adjustment, if any is needed, is then returned. <br>\n",
    "The function receives as inputs the valuation and bid vectors generated by the difference equation estimator and whether the estimation was successful. <br>\n",
    "The ivp-algorithm (initial-value problem; the algorithm is provided by the scipy package) fails to return an approximation, if it reaches singularities or diverges. This happens if $\\bar{b}$ is too large. A crossing of the 45° line also implies that the guessed $\\bar{b}$ is too large. If the last estimated $v_i$ (at $b=0$) is larger than zero, it implies that $\\bar{b}$ is too low. If non of the condition fails, the guessed $\\bar{b}$ is sufficiently close to its true value and the approximation of the inverse optimal bid function is adequate."
   ]
  },
  {
   "cell_type": "code",
   "execution_count": 3,
   "metadata": {},
   "outputs": [],
   "source": [
    "def fct_evaluation(b, v, success_ivp):\n",
    "    \n",
    "    # We do not use the if - elif structure, because we would need to \n",
    "    # calculate v_crossing and v0_large in the beginning. This would \n",
    "    # be inefficient and might fail if success_ivp is False and the \n",
    "    # algorithm did not return complete arrys for v and b. Therefore, \n",
    "    # we nest the if statements.\n",
    "    \n",
    "    # acceptable deviation from phi(0)=0\n",
    "    epsilon = 0.01\n",
    "    \n",
    "    # approximation failed\n",
    "    if success_ivp is False:\n",
    "        b_bar_deviation = 'above'\n",
    "    \n",
    "    else:\n",
    "        # crossing of the 45° line\n",
    "        v_crossing_1 = (b > v[0]).any() \n",
    "            # compares each value of the same position of the b and \n",
    "            # v vector. If any b is larger than the accompaning v, \n",
    "            # then there exists a crossing.\n",
    "        v_crossing_2 = (b > v[1]).any()\n",
    "        if (v_crossing_1) or (v_crossing_2):\n",
    "            b_bar_deviation = 'above'\n",
    "        \n",
    "        else:\n",
    "            # the last estimated v (at b=0) being larger than 0\n",
    "            v0_large_1 = v[0][-1] > epsilon \n",
    "                # compares the last v (the closest to 0) with the \n",
    "                # epsilon.\n",
    "            v0_large_2 = v[1][-1] > epsilon\n",
    "            if v0_large_1 or v0_large_2:\n",
    "                b_bar_deviation = 'below'\n",
    "\n",
    "            # non of the conditions failed\n",
    "            else:\n",
    "                b_bar_deviation = 'sufficiently_small'\n",
    "    \n",
    "    return b_bar_deviation"
   ]
  },
  {
   "cell_type": "markdown",
   "metadata": {},
   "source": [
    "### 1.A.c. Adjustment algorithm <a name='adj_alg'> </a>\n",
    "The adjustment algorithm updates the $\\bar{b}$ guess. <br>\n",
    "It receives as an argument whether the guessed $\\bar{b}$ should be increased or decreased. We use the bisection method for the update. It is not the most efficient method but it is sufficiently fast for our purposes and intuitive to implement."
   ]
  },
  {
   "cell_type": "code",
   "execution_count": 4,
   "metadata": {},
   "outputs": [],
   "source": [
    "def fct_adjustment(b_bar_deviation, b_bar_history):\n",
    "    \n",
    "    # latest b_bar guess \n",
    "    latest_b_bar = b_bar_history[-1]\n",
    "    \n",
    "    # adjustment magnitude is the half difference of the lastest \n",
    "    # two guesses\n",
    "    adjustment_size = abs(b_bar_history[-1] - b_bar_history[-2]) / 2\n",
    "    \n",
    "    # adjustment\n",
    "    if b_bar_deviation == 'below':\n",
    "        b_bar = latest_b_bar + adjustment_size\n",
    "    elif b_bar_deviation == 'above':\n",
    "        b_bar = latest_b_bar - adjustment_size\n",
    "    elif b_bar_deviation == 'sufficiently_small':\n",
    "        b_bar = latest_b_bar\n",
    "        \n",
    "    return b_bar"
   ]
  },
  {
   "cell_type": "markdown",
   "metadata": {},
   "source": [
    "### 1.A.d. Approximation <a name='solver'> </a>\n",
    "Now we numerically approximate the system differential equation by utilizing all of the above functions. <br> \n",
    "We pass the differential equation system that we approximate as argument. The function returns an evenly spaced grid of b-values and the corresponding functional values of each buyers' valuation."
   ]
  },
  {
   "cell_type": "code",
   "execution_count": 5,
   "metadata": {},
   "outputs": [],
   "source": [
    "def diff_eq_solver(diff_eq):\n",
    "\n",
    "    # starting parameters\n",
    "    b_bar = 1 / 2 \n",
    "        # starting value is naive mean of intervall\n",
    "    b_bar_history = [0, b_bar] \n",
    "        # history needed to adadpt adjustment size\n",
    "    b_bar_deviation = 'start' \n",
    "        # non-sensical value, but needed to start the loop\n",
    "\n",
    "    while b_bar_deviation != 'sufficiently_small':\n",
    "\n",
    "        # part of the model that needs adjustments\n",
    "        b_span = [b_bar, 0]\n",
    "        b_eval = np.linspace(b_bar, 0, 1000)\n",
    "        \n",
    "        # compute differential equations\n",
    "        sol = integrate.solve_ivp(fun=diff_eq, t_span=b_span, \n",
    "                                  y0=[1, 1], t_eval=b_eval)\n",
    "            # differential equation solver - its documentation \n",
    "            # explains the functionalities well\n",
    "        success_ivp = sol.success # returns whether approximation \n",
    "                                  # was successful\n",
    "        b = sol.t # t of the solution returns our bids (evenly \n",
    "                  # spaced on full b interval)\n",
    "        v = sol.y # y of the solution returns our valuations \n",
    "                  # (approximated inverse bid function's funtional\n",
    "                  # values for b)\n",
    "        \n",
    "        # evaluate & adjust b_bar\n",
    "        b_bar_deviation = fct_evaluation(b, v, success_ivp)\n",
    "        b_bar = fct_adjustment(b_bar_deviation, b_bar_history)\n",
    "        b_bar_history.append(b_bar)\n",
    "\n",
    "    return b, v"
   ]
  },
  {
   "cell_type": "markdown",
   "metadata": {},
   "source": [
    "## 1.B. One-round simulation <a name='one_round'> </a>\n",
    "We simulate 1000 auctions of which we receive the mean prices and further interesting resutls as the surplus of each buyer, the win rates of each buyer, and the rate of efficient auctions. <br>\n",
    "To do so, we first draw random valuations for all auctions and assign the respective bids. Secondly, we define functions to analyze the results"
   ]
  },
  {
   "cell_type": "markdown",
   "metadata": {},
   "source": [
    "## 1.B.a Bids of randomly drawn valuations <a name='v_to_b'> </a>\n",
    "We have the differential equations approximated by a grid of bids which have a valuation according to the respective inverse-bid functions. Exogenously, we draw valuations for many iterations which then get their bid assigned. <br>\n",
    "For this, we first draw the cdf-values which we then use to assign the valuations. Next, we approximate each valuation with the nearest-grid valuation. Finally the bids are assigned to the grid valuations."
   ]
  },
  {
   "cell_type": "markdown",
   "metadata": {},
   "source": [
    "#### 1.B.a.i. cdf draws <a name='cdf_draw'> </a>\n",
    "Here we draw the cdf values of each buyer."
   ]
  },
  {
   "cell_type": "code",
   "execution_count": 6,
   "metadata": {},
   "outputs": [],
   "source": [
    "# no random seed, since we need different values for each auction\n",
    "def fct_draw_cdf(periods):\n",
    "\n",
    "    cdf_1 = np.random.random(periods)\n",
    "    cdf_2 = np.random.random(periods)\n",
    "    cdfs = [cdf_1, cdf_2]\n",
    "    \n",
    "    return cdfs"
   ]
  },
  {
   "cell_type": "markdown",
   "metadata": {},
   "source": [
    "#### 1.B.a.ii. cdf to valuation <a name='cdf_value'> </a>\n",
    "To receive the valuation assigned to the cdf values, we need to inverse the cdf function, since\n",
    "$F(v)=x \\Rightarrow v = F^{-1}(x)$. The inverse cdf-functions are the following: <br>\n",
    "$F_{uni}(v) = v \\Rightarrow F_{uni}^{-1}(v) = v$ <br>\n",
    "$F_{high}(v) = 0.5v + 0.5v^2 \\Rightarrow F_{high}^{-1}(v) = -0.5 + \\sqrt{0.5^2 + 2v}$ <br>\n",
    "$F_{low}(v) = 1.5v - 0.5v^2 \\Rightarrow F_{low}^{-1}(v) = 1.5 - \\sqrt{1.5^2-2v}$"
   ]
  },
  {
   "cell_type": "code",
   "execution_count": 7,
   "metadata": {},
   "outputs": [],
   "source": [
    "def fct_assign_valuation(cdfs, typ):\n",
    "    \n",
    "    # unpack cdf of each buyer\n",
    "    cdf_0 = cdfs[0]\n",
    "    cdf_1 = cdfs[1]\n",
    "    \n",
    "    # inverse of uniform cdf is the function itself\n",
    "    draw_v_1 = cdf_0\n",
    "    \n",
    "    # inverse for both typs\n",
    "    if typ == 'high':\n",
    "        draw_v_2 = -0.5 + np.sqrt(0.5**2 + 2*cdf_1)\n",
    "    elif typ == 'low':\n",
    "        draw_v_2 = 1.5 - np.sqrt(1.5**2 - 2*cdf_1)\n",
    "    \n",
    "    drawn_valuations = np.vstack((draw_v_1, draw_v_2))\n",
    "    \n",
    "    return drawn_valuations"
   ]
  },
  {
   "cell_type": "markdown",
   "metadata": {},
   "source": [
    "#### 1.B.a.iii. valuation to grid <a name='v_grid'> </a>\n",
    "The drawn valuations from a continuous function are assigned to the closest valuations from the grid delivered by the solution of the differential equation system. "
   ]
  },
  {
   "cell_type": "code",
   "execution_count": 8,
   "metadata": {},
   "outputs": [],
   "source": [
    "def fct_match_random_with_grid(drawn_valuations, grid_valuations):\n",
    "\n",
    "    matched_valuations = [] # list for both buyers\n",
    "\n",
    "    for buyer, drawn_valuation in enumerate(drawn_valuations):\n",
    "        grid_valuation = grid_valuations[buyer] \n",
    "            # select valuations of one buyer\n",
    "        matched_valuation = [] \n",
    "            # list for each value-matching of one buyer\n",
    "        \n",
    "        for valuation in drawn_valuation:\n",
    "            size_higher = (grid_valuation > valuation).sum() \n",
    "                # needed to find closest v from grid\n",
    "\n",
    "            # if drawn v is smaller than smallest v. Note that due \n",
    "            # to the epsilon>0 does not have to equal 0, but can be \n",
    "            # anywhere between 0 and epsilon\n",
    "            if size_higher == len(grid_valuation):\n",
    "                higher = grid_valuation[size_higher-1]\n",
    "                matched_valuation.append(higher)\n",
    "\n",
    "            else:\n",
    "                # next smaller, and next larger v from the grid \n",
    "                lower = grid_valuation[size_higher]\n",
    "                higher = grid_valuation[size_higher-1]\n",
    "\n",
    "                # distance of drawn v to closest grid-vs\n",
    "                distance_lower = abs(lower - valuation)\n",
    "                distance_higher = abs(higher - valuation)\n",
    "                higher_closer = distance_higher < distance_lower\n",
    "\n",
    "                # drawn v is approximated by closest grid-v\n",
    "                if higher_closer:\n",
    "                    matched_valuation.append(higher)\n",
    "                else:\n",
    "                    matched_valuation.append(lower)\n",
    "                    \n",
    "        matched_valuations.append(matched_valuation)\n",
    "    matched_valuations = np.array(matched_valuations)\n",
    "    \n",
    "    return matched_valuations"
   ]
  },
  {
   "cell_type": "markdown",
   "metadata": {},
   "source": [
    "#### 1.B.a.iv. Grid-valuation to bid <a name='grid_to_bid'> </a>\n",
    "The valuations from the grid are assigned to the corresponding bids."
   ]
  },
  {
   "cell_type": "code",
   "execution_count": 9,
   "metadata": {},
   "outputs": [],
   "source": [
    "def fct_value_to_bid(matched_valuations, grid_valuations, grid_bids):\n",
    "    \n",
    "    matched_bids = [] # list for both buyers\n",
    "\n",
    "    for buyer, matched_valuation in enumerate(matched_valuations):\n",
    "        grid_valuation = grid_valuations[buyer] \n",
    "            # select valuation grid of one buyer\n",
    "        matched_bid = [] \n",
    "            # list for each matched bid of one buyer\n",
    "        \n",
    "        for valuation in matched_valuation:\n",
    "            pos = grid_valuation.tolist().index(valuation) \n",
    "                # find position of matched-v in grid-v\n",
    "            bid = grid_bids[pos] \n",
    "                # extract b with same position in its array\n",
    "            matched_bid.append(bid)\n",
    "        \n",
    "        matched_bids.append(matched_bid)\n",
    "    matched_bids = np.array(matched_bids)\n",
    "    \n",
    "    return matched_bids"
   ]
  },
  {
   "cell_type": "markdown",
   "metadata": {},
   "source": [
    "### 1.B.b. Collecting Results <a name='results'> </a>\n",
    "In the following, we define functions that collect the data from the auctions and then displays the main results."
   ]
  },
  {
   "cell_type": "markdown",
   "metadata": {},
   "source": [
    "#### 1.B.b.i. Granular results <a name='granular'> </a>\n",
    "First, we collect all relevant data from each of the 1000 auctions."
   ]
  },
  {
   "cell_type": "code",
   "execution_count": 10,
   "metadata": {},
   "outputs": [],
   "source": [
    "def results(matched_valuations, matched_bids):\n",
    "    \n",
    "    # determine price of auction\n",
    "    prices = np.max(matched_bids, axis=0)\n",
    "    \n",
    "    # dataframe\n",
    "    data = np.vstack((matched_valuations, matched_bids, prices))\n",
    "    table = data.transpose()\n",
    "    col = ['value_one', 'value_two', 'bid_one', 'bid_two', 'price']\n",
    "    df = pd.DataFrame(data=table, columns=col)\n",
    "\n",
    "    # winner, surplus & efficient outcome\n",
    "    df['winner_one'] = df['bid_one'] == df['price']\n",
    "    df['winner_two'] = df['bid_two'] == df['price']\n",
    "    df['surplus_one'] = ((df['value_one'] - df['bid_one']) \n",
    "                        * df['winner_one'])\n",
    "    df['surplus_two'] = ((df['value_two'] - df['bid_two']) \n",
    "                         * df['winner_two'])\n",
    "    df['efficient'] = (((df.value_one >= df.value_two) \n",
    "                        & (df.bid_one >= df.bid_two)) | \n",
    "                       ((df.value_one <  df.value_two) \n",
    "                        & (df.bid_one <  df.bid_two)))\n",
    "\n",
    "    return df"
   ]
  },
  {
   "cell_type": "markdown",
   "metadata": {},
   "source": [
    "#### 1.B.b.ii. Aggregated results <a name='agg_results'> </a>\n",
    "Given the granular data of all auctions, we calculate aggregate measures.These are the mean price, win-rates of each buyer, welfare of each buyer and the rate of efficient auction outcomes."
   ]
  },
  {
   "cell_type": "code",
   "execution_count": 11,
   "metadata": {},
   "outputs": [],
   "source": [
    "def kpi(df):\n",
    "    \n",
    "    fp = df['price'].mean()\n",
    "    win_rate_one = df['winner_one'].mean()\n",
    "    win_rate_two = df['winner_two'].mean()\n",
    "    surplus_one = df['surplus_one'].mean()\n",
    "    surplus_two = df['surplus_two'].mean()\n",
    "    efficient = df['efficient'].mean()\n",
    "    \n",
    "    kpis = {'fp': fp, \n",
    "            'win_rate_one': win_rate_one, 'win_rate_two': win_rate_two,\n",
    "            'surplus_one': surplus_one, 'surplus_two': surplus_two,\n",
    "            'efficiency': efficient}\n",
    "    \n",
    "    return kpis"
   ]
  },
  {
   "cell_type": "markdown",
   "metadata": {},
   "source": [
    "### 1.B.c. Isolated simulation <a name='iso_sim'> </a>\n",
    "We simulate 1000 auctions. First, we utilize the differential equation solver to receive the grid of valuations and bids. Then we apply the new functons generating random valuations and assigning their bids, and collect the results."
   ]
  },
  {
   "cell_type": "code",
   "execution_count": 12,
   "metadata": {},
   "outputs": [],
   "source": [
    "def simulate_auctions(grid_bids, grid_valuations, typ, # diff-eq solver\n",
    "                      periods): # iterations\n",
    "\n",
    "    # optimal bids from randomly drawn valuations\n",
    "    cdfs = fct_draw_cdf(periods)\n",
    "    drawn_valuations = fct_assign_valuation(cdfs, typ)\n",
    "    matched_valuations = fct_match_random_with_grid(drawn_valuations, \n",
    "                                                    grid_valuations)\n",
    "    matched_bids = fct_value_to_bid(matched_valuations, \n",
    "                                    grid_valuations, grid_bids)\n",
    "\n",
    "    # analysis\n",
    "    df = results(matched_valuations, matched_bids)\n",
    "    kpis = kpi(df)\n",
    "    \n",
    "    return grid_valuations, grid_bids, df, kpis"
   ]
  },
  {
   "cell_type": "markdown",
   "metadata": {},
   "source": [
    "## 1.C Main simulation <a name='main_sim'> </a>\n",
    "We run the isolated simulation 100 consecutive times. The test that we are most interested in is, whether the $FP$ price is significantly different from the $SP$ price. We could run the one-time model 1000*100 times and would receive the same results. However, we find that comparing the aggregated means, lets one intuitively clearer observe the difference of means. This is due to the fact that the standard deviation of each $FP$ auction is quite large, but the standard deviation of the average of the 1000 repetitions is already smaller."
   ]
  },
  {
   "cell_type": "markdown",
   "metadata": {},
   "source": [
    "### 1.C.a. Repeated isolated simulations <a name='rep_iso_sim'> </a>\n",
    "We run the simulation 100 times and collect each iteration's results regarding, prices, welfare and efficiency."
   ]
  },
  {
   "cell_type": "code",
   "execution_count": 13,
   "metadata": {},
   "outputs": [],
   "source": [
    "def simulate_model(fct, typ, periods, T):\n",
    "    \n",
    "    # collect results of each of the T iterations\n",
    "    prices = [] \n",
    "    wf_one = []\n",
    "    wf_two = []\n",
    "    efficiency_rate = []\n",
    "\n",
    "    # optimal inverse bid function\n",
    "    grid_bids, grid_valuations = diff_eq_solver(fct)\n",
    "    \n",
    "    for t in range(T):\n",
    "        auction = simulate_auctions(grid_bids, grid_valuations, typ, \n",
    "                                    periods)\n",
    "            # the isolated auction simulation\n",
    "        simulation = auction[-1] \n",
    "            # this is the dictionary with the auction's aggregated \n",
    "            # results\n",
    "\n",
    "        prices.append(simulation['fp'])\n",
    "        wf_one.append(simulation['surplus_one'])\n",
    "        wf_two.append(simulation['surplus_two'])\n",
    "        efficiency_rate.append(simulation['efficiency'])\n",
    "        \n",
    "    prices = np.array(prices)\n",
    "    wf_one = np.array(wf_one)\n",
    "    wf_two = np.array(wf_two)\n",
    "    efficiency_rate = np.array(efficiency_rate)\n",
    "        \n",
    "    return prices, wf_one, wf_two, efficiency_rate"
   ]
  },
  {
   "cell_type": "markdown",
   "metadata": {},
   "source": [
    "### 1.C.b. Statistical results <a name='stat_results'> </a>\n",
    "Finally, we display the results. Firstly and mainly, we determine the statistical results regarding the prices. Secondly, we collect the means and standard errors of our welfare and efficiency measures."
   ]
  },
  {
   "cell_type": "markdown",
   "metadata": {},
   "source": [
    "The price statistics:"
   ]
  },
  {
   "cell_type": "code",
   "execution_count": 14,
   "metadata": {},
   "outputs": [],
   "source": [
    "def fct_price_statistics(prices, price_sp):\n",
    "    \n",
    "    T = len(prices)\n",
    "\n",
    "    # FP: mean & std\n",
    "    price_fp = prices.mean()\n",
    "    fp_se = prices.std(ddof=1)\n",
    "\n",
    "    # price statistics\n",
    "    stat_scipy = stats.ttest_1samp(prices, price_sp) \n",
    "        # scipy function for one-sided t-tests\n",
    "    t_stat = stat_scipy[0] \n",
    "        # unpacks t-statistic\n",
    "    p_value = stat_scipy[1] \n",
    "        # unpacks p-value\n",
    "\n",
    "    # collect results\n",
    "    price_statistics = {'price_fp': price_fp,\n",
    "                        'price_sp': price_sp,\n",
    "                        'fp_se': fp_se,\n",
    "                        't_statistic': t_stat,\n",
    "                        'p_value': p_value}\n",
    "    \n",
    "    return price_statistics"
   ]
  },
  {
   "cell_type": "markdown",
   "metadata": {},
   "source": [
    "Welfare and efficiency statistics:"
   ]
  },
  {
   "cell_type": "code",
   "execution_count": 15,
   "metadata": {},
   "outputs": [],
   "source": [
    "def fct_auxiliary_statistics(wf_one, wf_two, efficiency_rate):\n",
    "    \n",
    "    wf_mean_one = wf_one.mean()\n",
    "    wf_se_one = wf_one.std(ddof=1)\n",
    "    welfare_one = {'mean':wf_mean_one, 'se':wf_se_one}\n",
    "    \n",
    "    wf_mean_two = wf_two.mean()\n",
    "    wf_se_two = wf_two.std(ddof=1)\n",
    "    welfare_two = {'mean':wf_mean_two, 'se':wf_se_two}\n",
    "    \n",
    "    eff_mean = efficiency_rate.mean()\n",
    "    eff_se = efficiency_rate.std(ddof=1)\n",
    "    efficiency_rate = {'mean':eff_mean, 'se':eff_se}\n",
    "                   \n",
    "    aux_statistics = {'welfare_one': welfare_one,\n",
    "                      'welfare_two': welfare_two,\n",
    "                      'efficiency_rate': efficiency_rate}\n",
    "    \n",
    "    return aux_statistics"
   ]
  },
  {
   "cell_type": "markdown",
   "metadata": {},
   "source": [
    "<b> Results </b> <br>\n",
    "Finally, the results of the simulation for the $\\textit{low-type}$ case."
   ]
  },
  {
   "cell_type": "code",
   "execution_count": 16,
   "metadata": {
    "scrolled": false
   },
   "outputs": [
    {
     "name": "stderr",
     "output_type": "stream",
     "text": [
      "C:\\Users\\julia\\Anaconda3\\lib\\site-packages\\ipykernel_launcher.py:9: RuntimeWarning: divide by zero encountered in double_scalars\n",
      "  if __name__ == '__main__':\n",
      "C:\\Users\\julia\\Anaconda3\\lib\\site-packages\\scipy\\integrate\\_ivp\\rk.py:145: RuntimeWarning: invalid value encountered in true_divide\n",
      "  error_norm = norm(error / scale)\n"
     ]
    }
   ],
   "source": [
    "tmp = simulate_model(diff_eq_low, 'low', 1000, 100)\n",
    "prices_low, wf_one_low, wf_two_low, efficiency_rate_low = tmp"
   ]
  },
  {
   "cell_type": "code",
   "execution_count": 17,
   "metadata": {},
   "outputs": [],
   "source": [
    "price_statistics_low = fct_price_statistics(prices_low, 7/24)\n",
    "aux_statistics_low = fct_auxiliary_statistics(wf_one_low, wf_two_low, efficiency_rate_low)"
   ]
  },
  {
   "cell_type": "code",
   "execution_count": 18,
   "metadata": {},
   "outputs": [
    {
     "name": "stdout",
     "output_type": "stream",
     "text": [
      "price_fp - 0.2936749011737567\n",
      "price_sp - 0.2916666666666667\n",
      "fp_se - 0.0034423581240594055\n",
      "t_statistic - 5.833891869221965\n",
      "p_value - 6.84011571293889e-08\n",
      "\n",
      "welfare_one - {'mean': 0.192109824365018, 'se': 0.006102660452073285}\n",
      "welfare_two - {'mean': 0.13835300825098762, 'se': 0.005396908324497174}\n",
      "efficiency_rate - {'mean': 0.9610099999999998, 'se': 0.007058907976321968}\n"
     ]
    }
   ],
   "source": [
    "for key in price_statistics_low.keys():\n",
    "    print(key, '-', price_statistics_low[key])\n",
    "    \n",
    "print()\n",
    "for key in aux_statistics_low.keys():\n",
    "    print(key, '-', aux_statistics_low[key])"
   ]
  },
  {
   "cell_type": "markdown",
   "metadata": {},
   "source": [
    "# 2. Figures <a name='figures'> </a>\n",
    "We plot diagrams that represent the results. We plot the inverse optimal bid functions, create figures to represent repeated auctions, and figures that represent the whole simulation."
   ]
  },
  {
   "cell_type": "markdown",
   "metadata": {},
   "source": [
    "We create a directory in which we save the subsequent figures. By default, creating the directory and saving the figures is turned off."
   ]
  },
  {
   "cell_type": "code",
   "execution_count": 19,
   "metadata": {},
   "outputs": [],
   "source": [
    "def fct_create_dir(create):\n",
    "    \n",
    "    cwd = Path.cwd() \n",
    "        # directory in which Jupyter Notebook is saved\n",
    "    path_images = Path(cwd, 'Images') \n",
    "        # checks whether 'Images' directory exists in directory in \n",
    "        # which the Jupyter Notebook is located.\n",
    "    if create is True:\n",
    "        if not path_images.is_dir(): \n",
    "            # to create the directory is must not exist yet.\n",
    "            path_images.mkdir() \n",
    "                # creates the 'Images' directory\n",
    "    \n",
    "    return path_images"
   ]
  },
  {
   "cell_type": "code",
   "execution_count": 20,
   "metadata": {},
   "outputs": [],
   "source": [
    "create = False \n",
    "    # change to 'True' if you would like to create the directory\n",
    "location = fct_create_dir(create) \n",
    "    # creates the directory if 'True'; always stores location \n",
    "    # of image-directory"
   ]
  },
  {
   "cell_type": "markdown",
   "metadata": {},
   "source": [
    "## 2.A. Figures of bidding strategies <a name='bid_plot'> </a>\n",
    "We plot the inverse optimal bid functions."
   ]
  },
  {
   "cell_type": "code",
   "execution_count": 21,
   "metadata": {},
   "outputs": [],
   "source": [
    "def plot_strategies(b, v, loc_image, save):\n",
    "\n",
    "    v_highest = max(v[0][0], v[1][0]) \n",
    "        # used for displayed x- and y values and xlim/ ylim\n",
    "    \n",
    "    plt.figure()\n",
    "\n",
    "    plt.plot(v[0], b, label=r'$\\beta_1$', color='tab:blue') # bid_1\n",
    "    plt.plot(v[1], b, label=r'$\\beta_2$', color='tab:orange') # bid_2\n",
    "    plt.plot([0, v_highest], [b[0], b[0]], color='grey', \n",
    "             linestyle='dotted', label=r'$\\beta^{max}$') # highest bid\n",
    "    plt.plot([0, v_highest], [0, v_highest], color='grey', \n",
    "             linestyle='--', label='45°') # 45° line\n",
    "    \n",
    "    plt.xlabel(r'$v_i$')\n",
    "    plt.ylabel(r'$\\beta^*_i$', rotation=0)\n",
    "    \n",
    "    margin = v_highest / 20 \n",
    "        # extra margin for the interval of x- and y values\n",
    "    plt.xlim(0-margin, v_highest + margin)\n",
    "    plt.ylim(0-margin, v_highest + margin)\n",
    "    \n",
    "    plt.legend(ncol=2)\n",
    "    plt.grid()\n",
    "    \n",
    "    if save: # saving if variable is set True\n",
    "        plt.savefig(loc_image)\n",
    "        \n",
    "    plt.show()"
   ]
  },
  {
   "cell_type": "markdown",
   "metadata": {},
   "source": [
    "The inverse optimal bid functions of the $\\textit{high-type}$ case:"
   ]
  },
  {
   "cell_type": "code",
   "execution_count": 22,
   "metadata": {},
   "outputs": [
    {
     "name": "stderr",
     "output_type": "stream",
     "text": [
      "C:\\Users\\julia\\Anaconda3\\lib\\site-packages\\ipykernel_launcher.py:3: RuntimeWarning: divide by zero encountered in double_scalars\n",
      "  This is separate from the ipykernel package so we can avoid doing imports until\n"
     ]
    },
    {
     "data": {
      "image/png": "[encoded data removed]",
      "text/plain": [
       "<Figure size 432x288 with 1 Axes>"
      ]
     },
     "metadata": {
      "needs_background": "light"
     },
     "output_type": "display_data"
    }
   ],
   "source": [
    "save = False \n",
    "    # change to 'True' if you would like to save the image \n",
    "    # (also True in beginning of section needed)\n",
    "\n",
    "loc_image = Path(location, 'thesis_inv_bid_fct_high.png') \n",
    "    # path to save the image\n",
    "b_high, v_high = diff_eq_solver(diff_eq_high) \n",
    "    # grid of inv. opt. bid fcts.\n",
    "plot_strategies(b_high, v_high, loc_image, save) \n",
    "    # plot"
   ]
  },
  {
   "cell_type": "markdown",
   "metadata": {},
   "source": [
    "The inverse optimal bid functions of the $\\textit{low-type}$ case:"
   ]
  },
  {
   "cell_type": "code",
   "execution_count": 23,
   "metadata": {},
   "outputs": [
    {
     "name": "stderr",
     "output_type": "stream",
     "text": [
      "C:\\Users\\julia\\Anaconda3\\lib\\site-packages\\ipykernel_launcher.py:9: RuntimeWarning: divide by zero encountered in double_scalars\n",
      "  if __name__ == '__main__':\n"
     ]
    },
    {
     "data": {
      "image/png": "[encoded data removed]",
      "text/plain": [
       "<Figure size 432x288 with 1 Axes>"
      ]
     },
     "metadata": {
      "needs_background": "light"
     },
     "output_type": "display_data"
    }
   ],
   "source": [
    "save = False \n",
    "    # change to 'True' if you would like to save the image \n",
    "    # (also True in beginning of section needed)\n",
    "\n",
    "loc_image = Path(location, 'thesis_inv_bid_fct_low.png') \n",
    "    # path to save the image\n",
    "b_low, v_low = diff_eq_solver(diff_eq_low) \n",
    "    # grid of inverse opt. bid fcts.\n",
    "plot_strategies(b_low, v_low, loc_image, save) \n",
    "    # plot"
   ]
  },
  {
   "cell_type": "markdown",
   "metadata": {},
   "source": [
    "## 2.B. Figures of plots of  one-round simulation <a name='one_round_plot'> </a>\n",
    "We plot a random selection of 50 auctions and a histogram of all realized prices."
   ]
  },
  {
   "cell_type": "markdown",
   "metadata": {},
   "source": [
    "### 2.B.a. 50 auctions <a name='one_round_auction_plot'> </a>"
   ]
  },
  {
   "cell_type": "code",
   "execution_count": 24,
   "metadata": {},
   "outputs": [],
   "source": [
    "def plot_auction(df, kpis, p_sp, loc_image, save):\n",
    "    \n",
    "    tmp = df.head(50) # only first 50 auctions\n",
    "    x = tmp.index # iteration number as x-value\n",
    "    \n",
    "    plt.figure()\n",
    "    \n",
    "    plt.scatter(x, tmp['bid_one'], color='tab:blue', \n",
    "                label=r'$\\beta_1$')  # bid of buyer 1\n",
    "    plt.scatter(x, tmp['bid_two'], color='tab:orange',\n",
    "                label=r'$\\beta_2$') # bid of buyer 2\n",
    "    plt.plot(x, tmp['price'], color='k', label='p') \n",
    "        # prices\n",
    "    plt.plot(x, [kpis['fp']]*len(x), '--k', label=r'$\\bar{p}^{FP}$')\n",
    "        # mean fp\n",
    "    plt.plot(x, [p_sp]*len(x), linestyle='--', color='grey', \n",
    "             label=r'$\\bar{p}^{SP}$') # mean sp\n",
    "    \n",
    "    margin = 1 / 20 # extra margin for the interval of x- and y values \n",
    "                    # for a clearer plot\n",
    "    plt.xlim(0-(len(x)*margin), len(x) + (len(x)*margin))\n",
    "    plt.ylim(0-margin, 1 + margin)\n",
    "    plt.xlabel('auction')\n",
    "    plt.ylabel('bids & prices')\n",
    "    plt.legend(ncol=2)\n",
    "    \n",
    "    if save is True:\n",
    "        plt.savefig(loc_image)\n",
    "    \n",
    "    plt.show()"
   ]
  },
  {
   "cell_type": "markdown",
   "metadata": {},
   "source": [
    "### 2.B.b. Histogram <a name='one_round_dist_plot'> </a>"
   ]
  },
  {
   "cell_type": "code",
   "execution_count": 25,
   "metadata": {},
   "outputs": [],
   "source": [
    "def plot_auction_hist(df, sp, loc_image, save):\n",
    "    \n",
    "    fp = df['price'].mean()\n",
    "\n",
    "    plt.figure()\n",
    "\n",
    "    plt.hist(df['price'], color='tab:blue', label='$p_{FP}$')\n",
    "    plt.axvline(fp, color='black', linestyle='--', \n",
    "                label=r'$\\bar{p}_{FP}$')\n",
    "    plt.axvline(sp, color='grey', linestyle='--', label='$E[p_{SP}]$')\n",
    "\n",
    "    plt.xlabel('price')\n",
    "    plt.ylabel('frequency')\n",
    "    plt.legend()\n",
    "    \n",
    "    if save is True:\n",
    "        plt.savefig(loc_image)  \n",
    "\n",
    "    plt.show()"
   ]
  },
  {
   "cell_type": "markdown",
   "metadata": {},
   "source": [
    "The repeated auctions and the histogram for $\\textit{high-types}$:"
   ]
  },
  {
   "cell_type": "code",
   "execution_count": 26,
   "metadata": {},
   "outputs": [
    {
     "name": "stderr",
     "output_type": "stream",
     "text": [
      "C:\\Users\\julia\\Anaconda3\\lib\\site-packages\\ipykernel_launcher.py:3: RuntimeWarning: divide by zero encountered in double_scalars\n",
      "  This is separate from the ipykernel package so we can avoid doing imports until\n"
     ]
    },
    {
     "data": {
      "image/png": "[encoded data removed]",
      "text/plain": [
       "<Figure size 432x288 with 1 Axes>"
      ]
     },
     "metadata": {
      "needs_background": "light"
     },
     "output_type": "display_data"
    },
    {
     "data": {
      "image/png": "[encoded data removed]",
      "text/plain": [
       "<Figure size 432x288 with 1 Axes>"
      ]
     },
     "metadata": {
      "needs_background": "light"
     },
     "output_type": "display_data"
    }
   ],
   "source": [
    "save = False \n",
    "    # change to 'True' if you would like to save the image \n",
    "    # (also True in beginning of section needed)\n",
    "\n",
    "loc_image_auction = Path(location, 'thesis_fifty_auctions_high.png')\n",
    "loc_image_auction_hist = Path(location, 'thesis_auctions_hist_high.png')\n",
    "\n",
    "b_high, v_high = diff_eq_solver(diff_eq_high) \n",
    "    # grid of inverse opt. bid fcts.\n",
    "tmp_high = simulate_auctions(b_high, v_high, 'high', 1000)\n",
    "df_high = tmp_high[-2]\n",
    "kpis_high = tmp_high[-1]\n",
    "price_sp = 3/8\n",
    "plot_auction(df_high, kpis_high, price_sp, loc_image_auction, save)\n",
    "plot_auction_hist(df_high, price_sp, loc_image_auction_hist, save)"
   ]
  },
  {
   "cell_type": "markdown",
   "metadata": {},
   "source": [
    "The repeated auctions and the histogram for $\\textit{low-types}$:"
   ]
  },
  {
   "cell_type": "code",
   "execution_count": 27,
   "metadata": {},
   "outputs": [
    {
     "name": "stderr",
     "output_type": "stream",
     "text": [
      "C:\\Users\\julia\\Anaconda3\\lib\\site-packages\\ipykernel_launcher.py:9: RuntimeWarning: divide by zero encountered in double_scalars\n",
      "  if __name__ == '__main__':\n"
     ]
    },
    {
     "data": {
      "image/png": "[encoded data removed]",
      "text/plain": [
       "<Figure size 432x288 with 1 Axes>"
      ]
     },
     "metadata": {
      "needs_background": "light"
     },
     "output_type": "display_data"
    },
    {
     "data": {
      "image/png": "[encoded data removed]",
      "text/plain": [
       "<Figure size 432x288 with 1 Axes>"
      ]
     },
     "metadata": {
      "needs_background": "light"
     },
     "output_type": "display_data"
    }
   ],
   "source": [
    "save = False \n",
    "    # change to 'True' if you would like to save the image \n",
    "    # (also True in beginning of section needed)\n",
    "\n",
    "loc_image_auction = Path(location, 'thesis_fifty_auctions_low.png')\n",
    "loc_image_auction_hist = Path(location, 'thesis_auctions_hist_low.png')\n",
    "\n",
    "b_low, v_low = diff_eq_solver(diff_eq_low) \n",
    "    # grid of inverse opt. bid fcts.\n",
    "tmp_low = simulate_auctions(b_low, v_low, 'low', 1000)\n",
    "df_low = tmp_low[-2]\n",
    "kpis_low = tmp_low[-1]\n",
    "p_sp = 7/24\n",
    "plot_auction(df_low, kpis_low, p_sp, loc_image_auction, save)\n",
    "plot_auction_hist(df_low, p_sp, loc_image_auction_hist, save)"
   ]
  },
  {
   "cell_type": "markdown",
   "metadata": {},
   "source": [
    "The diagrams present that the realized prices between auctions fluctuate quite strongly. This serves as indicator that we need to choose quite a large number of auctions to have sufficiently small standard-errors."
   ]
  },
  {
   "cell_type": "markdown",
   "metadata": {},
   "source": [
    "## 2.C. Figures of main simulation <a name='main_sim_plot'> </a>\n",
    "We plot the prices of the simulation containing 100 iterations of 1000 auctions. Also we plot a histogram of the simulation's prices."
   ]
  },
  {
   "cell_type": "markdown",
   "metadata": {},
   "source": [
    "### 2.C.a. All iterations <a name='main_auction_plot'> </a>"
   ]
  },
  {
   "cell_type": "code",
   "execution_count": 28,
   "metadata": {},
   "outputs": [],
   "source": [
    "def plot_simulation(prices, price_statistics, loc_image, save):\n",
    "    \n",
    "    plt.figure()\n",
    "\n",
    "    x = np.arange(len(prices))\n",
    "    fp = price_statistics['price_fp']\n",
    "    sp = price_statistics['price_sp']\n",
    "    \n",
    "    plt.scatter(x, prices, color='tab:blue', label=r'$\\bar{p}_{FP}$')\n",
    "    plt.plot(x, [fp]*len(x), 'k--', label=r'overall $\\bar{p}_{FP}$')\n",
    "    plt.plot(x, [sp]*len(x), color='grey', linestyle='--', \n",
    "            label=r'$E[p_{SP}]$')\n",
    "\n",
    "    margin = 1 / 20 # extra margin for the interval of x- and y values \n",
    "                    # for a clearer plot\n",
    "    plt.xlim(0-(len(x)*margin), len(x) + (len(x)*margin))\n",
    "    plt.xlabel('simulation')\n",
    "    plt.ylabel('prices')\n",
    "    plt.legend(ncol=3)\n",
    "        \n",
    "    if save is True:\n",
    "        plt.savefig(loc_image)\n",
    "    \n",
    "    plt.show()"
   ]
  },
  {
   "cell_type": "markdown",
   "metadata": {},
   "source": [
    "### 2.C.b. Histogram <a name='main_dist_plot'> </a>"
   ]
  },
  {
   "cell_type": "code",
   "execution_count": 29,
   "metadata": {},
   "outputs": [],
   "source": [
    "def plot_simulation_hist(prices, price_statistics, loc_image, save):\n",
    "    \n",
    "    fp = price_statistics['price_fp']\n",
    "    sp = price_statistics['price_sp']\n",
    "\n",
    "    plt.figure()\n",
    "\n",
    "    plt.hist(prices, color='tab:blue', label=r'$\\bar{p}_{FP}$')\n",
    "    plt.axvline(fp, color='black', linestyle='--', \n",
    "                label=r'overall $\\bar{p}_{FP}$')\n",
    "    plt.axvline(sp, color = 'grey', linestyle='--', \n",
    "                label=r'$E[p_{SP}]$')\n",
    "\n",
    "    plt.xlabel('price')\n",
    "    plt.ylabel('frequency')\n",
    "    plt.legend()\n",
    "\n",
    "    if save is True:\n",
    "        plt.savefig(loc_image)    \n",
    "\n",
    "    plt.show()"
   ]
  },
  {
   "cell_type": "markdown",
   "metadata": {},
   "source": [
    "The simulation and histogram for $\\textit{high-types}$:"
   ]
  },
  {
   "cell_type": "code",
   "execution_count": 30,
   "metadata": {},
   "outputs": [
    {
     "name": "stderr",
     "output_type": "stream",
     "text": [
      "C:\\Users\\julia\\Anaconda3\\lib\\site-packages\\ipykernel_launcher.py:3: RuntimeWarning: divide by zero encountered in double_scalars\n",
      "  This is separate from the ipykernel package so we can avoid doing imports until\n"
     ]
    },
    {
     "data": {
      "image/png": "[encoded data removed]",
      "text/plain": [
       "<Figure size 432x288 with 1 Axes>"
      ]
     },
     "metadata": {
      "needs_background": "light"
     },
     "output_type": "display_data"
    },
    {
     "data": {
      "image/png": "[encoded data removed]",
      "text/plain": [
       "<Figure size 432x288 with 1 Axes>"
      ]
     },
     "metadata": {
      "needs_background": "light"
     },
     "output_type": "display_data"
    }
   ],
   "source": [
    "save = False \n",
    "    # change to 'True' if you would like to save the image \n",
    "    # (also True in beginning of section needed)\n",
    "\n",
    "loc_image_simulation = Path(location, 'thesis_simulation_high.png')\n",
    "loc_image_simulation_hist = Path(location, 'thesis_simulation_hist_high.png')\n",
    "\n",
    "prices_high = simulate_model(diff_eq_high, 'high', 1000, 100)[0]\n",
    "price_statistics_high = fct_price_statistics(prices_high, 3/8)\n",
    "plot_simulation(prices_high, price_statistics_high, \n",
    "                loc_image_simulation, save)\n",
    "plot_simulation_hist(prices_high, price_statistics_high, \n",
    "                     loc_image_simulation_hist, save)"
   ]
  },
  {
   "cell_type": "markdown",
   "metadata": {},
   "source": [
    "The simulation and histogram for $\\textit{low-types}$:"
   ]
  },
  {
   "cell_type": "code",
   "execution_count": 31,
   "metadata": {
    "scrolled": false
   },
   "outputs": [
    {
     "name": "stderr",
     "output_type": "stream",
     "text": [
      "C:\\Users\\julia\\Anaconda3\\lib\\site-packages\\ipykernel_launcher.py:9: RuntimeWarning: divide by zero encountered in double_scalars\n",
      "  if __name__ == '__main__':\n"
     ]
    },
    {
     "data": {
      "image/png": "[encoded data removed]",
      "text/plain": [
       "<Figure size 432x288 with 1 Axes>"
      ]
     },
     "metadata": {
      "needs_background": "light"
     },
     "output_type": "display_data"
    },
    {
     "data": {
      "image/png": "[encoded data removed]",
      "text/plain": [
       "<Figure size 432x288 with 1 Axes>"
      ]
     },
     "metadata": {
      "needs_background": "light"
     },
     "output_type": "display_data"
    }
   ],
   "source": [
    "save = True # change to 'True' if you would like to save the image (also True in beginning of \n",
    "            # section needed)\n",
    "\n",
    "loc_image_simulation = Path(location, 'thesis_simulation_low.png')\n",
    "loc_image_simulation_hist = Path(location, 'thesis_simulation_hist_low.png')\n",
    "\n",
    "prices_low = simulate_model(diff_eq_low, 'low', 1000, 100)[0]\n",
    "price_statistics_low = fct_price_statistics(prices_low, 7/24)\n",
    "plot_simulation(prices_low, price_statistics_low, \n",
    "                loc_image_simulation, save)\n",
    "plot_simulation_hist(prices_low, price_statistics_low, \n",
    "                     loc_image_simulation_hist, save)"
   ]
  },
  {
   "cell_type": "markdown",
   "metadata": {},
   "source": [
    "The figures underline that the average prices of the $\\textit{FP}$ auction are significantly different from the prices of the $\\textit{SP}$ auction."
   ]
  }
 ],
 "metadata": {
  "kernelspec": {
   "display_name": "Python 3",
   "language": "python",
   "name": "python3"
  },
  "language_info": {
   "codemirror_mode": {
    "name": "ipython",
    "version": 3
   },
   "file_extension": ".py",
   "mimetype": "text/x-python",
   "name": "python",
   "nbconvert_exporter": "python",
   "pygments_lexer": "ipython3",
   "version": "3.7.3"
  }
 },
 "nbformat": 4,
 "nbformat_minor": 2
}
