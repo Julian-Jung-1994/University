{
 "cells": [
  {
   "cell_type": "markdown",
   "metadata": {
    "pycharm": {
     "name": "#%% md\n"
    }
   },
   "source": [
    "## Final Assignment (Deadline 12.03.2021)\n",
    "## Julian Jung (3588413)"
   ]
  },
  {
   "cell_type": "markdown",
   "metadata": {
    "pycharm": {
     "name": "#%% md\n"
    }
   },
   "source": [
    "Import the necessary packages:"
   ]
  },
  {
   "cell_type": "code",
   "execution_count": 1,
   "metadata": {
    "pycharm": {
     "name": "#%%\n"
    }
   },
   "outputs": [],
   "source": [
    "import numpy as np\n",
    "from scipy.optimize import fsolve\n",
    "import matplotlib.pyplot as plt\n",
    "import pandas as pd\n",
    "import statsmodels.api as sm"
   ]
  },
  {
   "cell_type": "markdown",
   "metadata": {
    "pycharm": {
     "name": "#%% md\n"
    }
   },
   "source": [
    "Define the parameters of the model:"
   ]
  },
  {
   "cell_type": "code",
   "execution_count": 2,
   "metadata": {
    "pycharm": {
     "name": "#%%\n"
    }
   },
   "outputs": [],
   "source": [
    "sigma = 1\n",
    "kappa = 0.3\n",
    "beta = 0.995\n",
    "phi_y = 0.1\n",
    "phi_pi = 1.5\n",
    "rho_mu = 0.7"
   ]
  },
  {
   "cell_type": "markdown",
   "metadata": {
    "pycharm": {
     "name": "#%% md\n"
    }
   },
   "source": [
    "### Task 1\n",
    "A, M and D matrices of A\\*z_t = M\\*E_t[z_{t+1}] + D\\*z_{t-1} + u_t. <br>\n",
    "Also, to keep the code compact, I already state the inverse of A in this section:"
   ]
  },
  {
   "cell_type": "markdown",
   "metadata": {},
   "source": [
    "In order to derive the A, M and D matrix, I write the model in matrix form. <br>\n",
    "For this, I put the mu_t equation in the first row, the y_t equation in the second row, the pi_t equation in the third row and the i_t equation in the forth row. <br>\n",
    "Then, I group the previous named variables in the vector z_t on the left hand side. On the right hand side, I group E_t\\[z_{t+1}], z_{t-1} and error_t in respective vectors. <br>\n",
    "Following, I infer from the equations of the model, the A, M and D matrices which give the coefficients to the previously created vectors."
   ]
  },
  {
   "cell_type": "code",
   "execution_count": 3,
   "metadata": {
    "pycharm": {
     "name": "#%%\n"
    }
   },
   "outputs": [
    {
     "name": "stdout",
     "output_type": "stream",
     "text": [
      "A =  [[ 1.   0.   0.   0. ]\n",
      " [ 0.   1.   0.   1. ]\n",
      " [-1.  -0.3  1.   0. ]\n",
      " [ 0.   0.   0.   1. ]]\n",
      "A_inv =  [[ 1.   0.   0.   0. ]\n",
      " [ 0.   1.   0.  -1. ]\n",
      " [ 1.   0.3  1.  -0.3]\n",
      " [ 0.   0.   0.   1. ]]\n",
      "M =  [[0.    0.    0.    0.   ]\n",
      " [0.    1.    1.    0.   ]\n",
      " [0.    0.    0.995 0.   ]\n",
      " [0.    0.    0.    0.   ]]\n",
      "D =  [[0.7 0.  0.  0. ]\n",
      " [0.  0.  0.  0. ]\n",
      " [0.  0.  0.  0. ]\n",
      " [0.  0.1 1.5 0. ]]\n"
     ]
    }
   ],
   "source": [
    "A = np.array([[1,0,0,0],\n",
    "              [0,1,0,1/sigma],\n",
    "              [-1,-kappa,1,0],\n",
    "              [0,0,0,1]])\n",
    "\n",
    "A_inv = np.linalg.inv(A)\n",
    "\n",
    "M = np.array([[0,0,0,0],\n",
    "              [0,1,1/sigma,0],\n",
    "              [0,0,beta,0],\n",
    "              [0,0,0,0]])\n",
    "\n",
    "D = np.array([[rho_mu,0,0,0],\n",
    "              [0,0,0,0],\n",
    "              [0,0,0,0],\n",
    "              [0,phi_y,phi_pi,0]])\n",
    "\n",
    "print(\"A = \",A)\n",
    "print(\"A_inv = \", A_inv)\n",
    "print(\"M = \",M)\n",
    "print(\"D = \",D)"
   ]
  },
  {
   "cell_type": "markdown",
   "metadata": {},
   "source": [
    "### Task 2\n",
    "Function with input of guessed steady state and output of difference of realized-z-vector and input-z-vector."
   ]
  },
  {
   "cell_type": "markdown",
   "metadata": {},
   "source": [
    "Firstly, alternate A\\*z_t = M\\*E_t[z_{t+1}] + D\\*z_{t-1} + u_t to\n",
    "z_t = A_inv * (M\\*^z_t + D*^z_t). Note that ^z_t refers to the input-z-vector. <br>\n",
    "Secondly, calculate the difference of z_t and ^z_t."
   ]
  },
  {
   "cell_type": "code",
   "execution_count": 4,
   "metadata": {
    "pycharm": {
     "name": "#%%\n"
    }
   },
   "outputs": [],
   "source": [
    "def NewKey_1(z_guess):\n",
    "    term_1 = np.dot(M,z_guess)        # the first term ín the right hand side brackets\n",
    "    term_2 = np.dot(D,z_guess)        # the second term ín the right hand side brackets\n",
    "    z = np.dot(A_inv,term_1 + term_2) # multiply A_inv with the two terms\n",
    "                                       \n",
    "    delta = z - z_guess               # the difference between the actual z values and the eq-z-guesses\n",
    "    return delta                      # when the function is called, the difference will be the output of the function"
   ]
  },
  {
   "cell_type": "markdown",
   "metadata": {},
   "source": [
    "An example of input eq-z-guesses and the deviation from the actually realized z-values:"
   ]
  },
  {
   "cell_type": "code",
   "execution_count": 5,
   "metadata": {
    "pycharm": {
     "name": "#%%\n"
    }
   },
   "outputs": [
    {
     "name": "stdout",
     "output_type": "stream",
     "text": [
      "inputs = [z,pi,i,mu] = [1. 1. 1. 1.]\n",
      "delta = [-0.3   -0.6    0.815  0.6  ]\n"
     ]
    }
   ],
   "source": [
    "init = np.ones(4) # example eq-z-guess of all four variables\n",
    "NewKey_1(init)    # the difference between the realized z-values and the initial guesses\n",
    "\n",
    "print(\"inputs = [z,pi,i,mu] =\", init )\n",
    "print(\"delta =\",NewKey_1(init))"
   ]
  },
  {
   "cell_type": "markdown",
   "metadata": {},
   "source": [
    "### Task 3\n",
    "Find the steady state and hence, the constant term of the MSV-solution using fsolve."
   ]
  },
  {
   "cell_type": "markdown",
   "metadata": {},
   "source": [
    "Firstly, initialize an input vector. Secondly, run the fsolve function with the previously defined New-Keyenesian function and the input vector."
   ]
  },
  {
   "cell_type": "code",
   "execution_count": 6,
   "metadata": {
    "pycharm": {
     "name": "#%%\n"
    }
   },
   "outputs": [
    {
     "name": "stdout",
     "output_type": "stream",
     "text": [
      "[z*,pi*,i*,mu*] = [ 4.9e-324 -2.5e-323  1.5e-323  9.9e-324] which is very close to 0.\n"
     ]
    }
   ],
   "source": [
    "init = np.ones(4)                                                         # the initial eq-guess as input for the function\n",
    "[msv_coefficients,inf,ier,mes] = fsolve(NewKey_1,init,full_output=True)   # running fsolve with the initial eq-guess on our function\n",
    "\n",
    "print(\"[z*,pi*,i*,mu*] =\", msv_coefficients, \"which is very close to 0.\") "
   ]
  },
  {
   "cell_type": "markdown",
   "metadata": {},
   "source": [
    "### Task 4\n",
    "Find the matrices F and Q with the linear time iteration algorithm."
   ]
  },
  {
   "cell_type": "markdown",
   "metadata": {},
   "source": [
    "Firstly, define a function with the inputs A, M, D and F, and the outputs F and Q. <br>\n",
    "Secondly, create a loop that iteratively calculates F depending on F's previous value, that stops if F is very close to the past F. Very close means that all entries on the respective same position of the matrices are be very similar. <br>\n",
    "Thirdly, determine the Q matrix using the final F matrix."
   ]
  },
  {
   "cell_type": "code",
   "execution_count": 7,
   "metadata": {
    "pycharm": {
     "name": "#%%\n"
    }
   },
   "outputs": [],
   "source": [
    "def TimeIteration(A,M,D,F):\n",
    "    F_max_diff = 1                                       # in order to allow the loop to start\n",
    "\n",
    "    while F_max_diff > 0.000001:                         # condition that the loop keeps going until F has sufficiently converged\n",
    "        F_new = np.dot(np.linalg.inv(A - np.dot(M,F)),D) # using linear time iteration formula for F_new\n",
    "        F_max_diff = np.max(np.abs(F_new - F))           # F_max_diff gives max difference of entries at the same position of \n",
    "                                                            # both matrices\n",
    "        F = F_new                                        # Fnew is saved as F to either use it in the next iteration of the loop\n",
    "                                                            # or to use it as output and for Q\n",
    "\n",
    "    Q  = np.linalg.inv(A - np.dot(M,F))                  # using linear time iteration formula to determine Q\n",
    "\n",
    "    return F, Q                                          # returning the F and Q matrix"
   ]
  },
  {
   "cell_type": "markdown",
   "metadata": {
    "pycharm": {
     "name": "#%% md\n"
    }
   },
   "source": [
    "### Task 5\n",
    "General solution of z_t using the previously defined Time Iteration function."
   ]
  },
  {
   "cell_type": "markdown",
   "metadata": {},
   "source": [
    "Call the created linear time iteration function with guessed F as input to obtain F and Q of z_t = F\\*z_{t-1} + Q\\*u_t."
   ]
  },
  {
   "cell_type": "code",
   "execution_count": 8,
   "metadata": {
    "pycharm": {
     "name": "#%%\n"
    }
   },
   "outputs": [
    {
     "name": "stdout",
     "output_type": "stream",
     "text": [
      "F = [[ 7.00000000e-01 -2.72576467e-19 -4.08864700e-18  0.00000000e+00]\n",
      " [-1.12112420e+00 -7.19280614e-02 -1.07892092e+00  0.00000000e+00]\n",
      " [ 6.96762347e-01 -1.63938939e-02 -2.45908409e-01  0.00000000e+00]\n",
      " [ 0.00000000e+00  1.00000000e-01  1.50000000e+00  0.00000000e+00]]\n",
      "Q = [[ 1.00000000e+00  1.79505676e-17  1.13064137e-16 -1.79505676e-17]\n",
      " [-1.60160647e+00  7.19280614e-01 -7.65598324e-01 -7.19280614e-01]\n",
      " [ 9.95374721e-01  1.63938939e-01  6.28924380e-01 -1.63938939e-01]\n",
      " [ 0.00000000e+00  0.00000000e+00  0.00000000e+00  1.00000000e+00]]\n"
     ]
    }
   ],
   "source": [
    "F_guess = np.ones((4,4))            # the initial F guess as input for the linear time iteration function\n",
    "\n",
    "# note that A, M and D are still defined by the previous code\n",
    "F = TimeIteration(A,M,D,F_guess)[0] # assigning the F-output of the function to F, using [0] as it returned first\n",
    "Q = TimeIteration(A,M,D,F_guess)[1] # assigning the Q-output of the function to Q, using [1] as it returned second\n",
    "\n",
    "print(\"F =\", F)\n",
    "print(\"Q =\", Q)"
   ]
  },
  {
   "cell_type": "code",
   "execution_count": 9,
   "metadata": {},
   "outputs": [
    {
     "name": "stdout",
     "output_type": "stream",
     "text": [
      "rounded F = [[ 0.7  -0.   -0.    0.  ]\n",
      " [-1.12 -0.07 -1.08  0.  ]\n",
      " [ 0.7  -0.02 -0.25  0.  ]\n",
      " [ 0.    0.1   1.5   0.  ]]\n",
      "rounded Q = [[ 1.    0.    0.   -0.  ]\n",
      " [-1.6   0.72 -0.77 -0.72]\n",
      " [ 1.    0.16  0.63 -0.16]\n",
      " [ 0.    0.    0.    1.  ]]\n"
     ]
    }
   ],
   "source": [
    "# neat output by rounding:\n",
    "print(\"rounded F =\", np.around(F,2))\n",
    "print(\"rounded Q =\", np.around(Q,2))"
   ]
  },
  {
   "cell_type": "markdown",
   "metadata": {
    "pycharm": {
     "name": "#%% md\n"
    }
   },
   "source": [
    "An example calculation of our model with exogenous z_{t-1} and u_t:"
   ]
  },
  {
   "cell_type": "code",
   "execution_count": 10,
   "metadata": {
    "pycharm": {
     "name": "#%%\n"
    }
   },
   "outputs": [
    {
     "name": "stdout",
     "output_type": "stream",
     "text": [
      "z_{t-1} = [0.2 0.2 0.2 0.2]\n",
      "u_t = [1. 1. 1. 1.]\n",
      "z_t = [ 1.14       -2.82159943  1.71119111  1.32      ]\n"
     ]
    }
   ],
   "source": [
    "z_prev = np.array([0.2,0.2,0.2,0.2])         # z_prev describes z_{t-1}\n",
    "u_pres = np.ones(4)                          # u_pres describes u_t\n",
    "\n",
    "z_pres = np.dot(F,z_prev) + np.dot(Q,u_pres) # z_pres describes z_t and makes use of the previously determined F and Q matrices\n",
    "\n",
    "print(\"z_{t-1} =\", z_prev)\n",
    "print(\"u_t =\", u_pres)\n",
    "print(\"z_t =\", z_pres)"
   ]
  },
  {
   "cell_type": "markdown",
   "metadata": {
    "pycharm": {
     "name": "#%% md\n"
    }
   },
   "source": [
    "### Task 6\n",
    "Save C_mu, C_y, C_pi, C_err_mu and C_err_i."
   ]
  },
  {
   "cell_type": "markdown",
   "metadata": {},
   "source": [
    "The respective C vectors are columns in the F and Q matrices. Hence, the right columns must be \"extracted\" from the matrices."
   ]
  },
  {
   "cell_type": "code",
   "execution_count": 11,
   "metadata": {
    "pycharm": {
     "name": "#%%\n"
    }
   },
   "outputs": [
    {
     "name": "stdout",
     "output_type": "stream",
     "text": [
      "[ 0.7        -1.1211242   0.69676235  0.        ]\n",
      "[-2.72576467e-19 -7.19280614e-02 -1.63938939e-02  1.00000000e-01]\n",
      "[-4.08864700e-18 -1.07892092e+00 -2.45908409e-01  1.50000000e+00]\n",
      "[ 1.         -1.60160647  0.99537472  0.        ]\n",
      "[-1.79505676e-17 -7.19280614e-01 -1.63938939e-01  1.00000000e+00]\n"
     ]
    }
   ],
   "source": [
    "C_mu     = F[:,0]  # the respective columns of the F matrix for z_{t-1}\n",
    "C_y      = F[:,1]\n",
    "C_pi     = F[:,2]\n",
    "C_err_mu = Q[:,0]  # the respective columns of the Q matrix for the shocks\n",
    "C_err_ni = Q[:,3]\n",
    "\n",
    "print(C_mu)\n",
    "print(C_y)\n",
    "print(C_pi)\n",
    "print(C_err_mu)\n",
    "print(C_err_ni)"
   ]
  },
  {
   "cell_type": "code",
   "execution_count": 12,
   "metadata": {},
   "outputs": [
    {
     "name": "stdout",
     "output_type": "stream",
     "text": [
      "C_mu = [ 0.7  -1.12  0.7   0.  ]\n",
      "C_y = [-0.   -0.07 -0.02  0.1 ]\n",
      "C_pi = [-0.   -1.08 -0.25  1.5 ]\n",
      "C_err_mu = [ 1.  -1.6  1.   0. ]\n",
      "C_err_ni = [-0.   -0.72 -0.16  1.  ]\n"
     ]
    }
   ],
   "source": [
    "# neat output by rounding:\n",
    "print(\"C_mu =\", np.around(C_mu,2))\n",
    "print(\"C_y =\", np.around(C_y,2))\n",
    "print(\"C_pi =\", np.around(C_pi,2))\n",
    "print(\"C_err_mu =\", np.around(C_err_mu,2))\n",
    "print(\"C_err_ni =\", np.around(C_err_ni,2))"
   ]
  },
  {
   "cell_type": "markdown",
   "metadata": {
    "pycharm": {
     "name": "#%% md\n"
    }
   },
   "source": [
    "### Task 7\n",
    "Effect of shock to mu in initial period."
   ]
  },
  {
   "cell_type": "code",
   "execution_count": 13,
   "metadata": {
    "pycharm": {
     "name": "#%%\n"
    }
   },
   "outputs": [],
   "source": [
    "T = 31  # number of periods\n",
    "\n",
    "# Initializing the needed vectors for T periods. Note the _0 extension of the name to differentiate from Task 8.\n",
    "mu_0     = np.zeros(T)\n",
    "y_0      = np.zeros(T)\n",
    "pi_0     = np.zeros(T)\n",
    "ni_0     = np.zeros(T)\n",
    "err_mu_0 = np.zeros(T)\n",
    "err_ni_0 = np.zeros(T)\n",
    "\n",
    "# The initial shock.\n",
    "# Note that I initialize the shock in period 1 and not in period 0. I do this as I start the loop in period 1. I start the loop\n",
    "# in period 1 as it is the earliest period that allows for the z_{t-1} vector. Note that if I started the loop in period 0,\n",
    "# the z_{t-1} would equal z_[t-1] = z[0-1] = z[-1] = z[30]. Even though by our initialization this would deliver 0, this is\n",
    "# not clean coding, as the loop would only work because of the lucky coincidents that z[30] happens to equal 0 by our\n",
    "# initialization of the vectors.\n",
    "err_mu_0[1] = 0.01\n",
    "\n",
    "# Loop through the periods.\n",
    "# Note that I prefer the explicit version over the list comprehension version.\n",
    "# This is as it is more intuitive to understand the formula while not too much more code.\n",
    "# The intuition is helpful as I use this loop in only slide variations multiple times in the remaining assignment.\n",
    "# Hence, I think the tradeoff is ok to keep the more intuitive version.\n",
    "\n",
    "for t in range(1,T): #make sure that x[t-1] starts in period 0, and not in x[t-1]=x[0-1]=x[-1]=x[30]. Hence, t = 1 as the start.\n",
    "    mu_0[t] = (C_mu[0]*mu_0[t-1] + C_y[0]*y_0[t-1] + C_pi[0]*pi_0[t-1] +\n",
    "             C_err_mu[0]*err_mu_0[t] + C_err_ni[0]*err_ni_0[t])\n",
    "    y_0[t]  = (C_mu[1]*mu_0[t-1] + C_y[1]*y_0[t-1] + C_pi[1]*pi_0[t-1] +\n",
    "             C_err_mu[1]*err_mu_0[t] + C_err_ni[1]*err_ni_0[t])\n",
    "    pi_0[t] = (C_mu[2]*mu_0[t-1] + C_y[2]*y_0[t-1] + C_pi[2]*pi_0[t-1] +\n",
    "             C_err_mu[2]*err_mu_0[t] + C_err_ni[2]*err_ni_0[t])\n",
    "    ni_0[t] = (C_mu[3]*mu_0[t-1] + C_y[3]*y_0[t-1] + C_pi[3]*pi_0[t-1] +\n",
    "             C_err_mu[3]*err_mu_0[t] + C_err_ni[3]*err_ni_0[t])"
   ]
  },
  {
   "cell_type": "markdown",
   "metadata": {
    "pycharm": {
     "name": "#%% md\n"
    }
   },
   "source": [
    "### Task 8\n",
    "Effect of shock to interest rate in initial period."
   ]
  },
  {
   "cell_type": "code",
   "execution_count": 14,
   "metadata": {
    "pycharm": {
     "name": "#%% The procedure is exactly the same as in task 7, only with the different shock. Therefore,\n"
    }
   },
   "outputs": [],
   "source": [
    "# The comments of task 7 are still valid. Now I use the extension _1 instead of _0 as in task 7.\n",
    "\n",
    "T = 31\n",
    "\n",
    "mu_1     = np.zeros(T)\n",
    "y_1      = np.zeros(T)\n",
    "pi_1     = np.zeros(T)\n",
    "ni_1     = np.zeros(T)\n",
    "err_mu_1 = np.zeros(T)\n",
    "err_ni_1 = np.zeros(T)\n",
    "\n",
    "err_ni_1[1] = 0.01\n",
    "\n",
    "for t in range(1,T):\n",
    "    mu_1[t] = (C_mu[0]*mu_1[t-1] + C_y[0]*y_1[t-1] + C_pi[0]*pi_1[t-1] +\n",
    "             C_err_mu[0]*err_mu_1[t] + C_err_ni[0]*err_ni_1[t])\n",
    "    y_1[t]  = (C_mu[1]*mu_1[t-1] + C_y[1]*y_1[t-1] + C_pi[1]*pi_1[t-1] +\n",
    "             C_err_mu[1]*err_mu_1[t] + C_err_ni[1]*err_ni_1[t])\n",
    "    pi_1[t] = (C_mu[2]*mu_1[t-1] + C_y[2]*y_1[t-1] + C_pi[2]*pi_1[t-1] +\n",
    "             C_err_mu[2]*err_mu_1[t] + C_err_ni[2]*err_ni_1[t])\n",
    "    ni_1[t] = (C_mu[3]*mu_1[t-1] + C_y[3]*y_1[t-1] + C_pi[3]*pi_1[t-1] +\n",
    "             C_err_mu[3]*err_mu_1[t] + C_err_ni[3]*err_ni_1[t])"
   ]
  },
  {
   "cell_type": "markdown",
   "metadata": {
    "pycharm": {
     "name": "#%% md\n"
    }
   },
   "source": [
    "### Task 9\n",
    "Plot the z_t vectors for the two different initial shocks."
   ]
  },
  {
   "cell_type": "code",
   "execution_count": 15,
   "metadata": {
    "pycharm": {
     "name": "#%%\n"
    },
    "scrolled": true
   },
   "outputs": [
    {
     "data": {
      "image/png": "[encoded data removed]",
      "text/plain": [
       "<Figure size 432x288 with 4 Axes>"
      ]
     },
     "metadata": {
      "needs_background": "light"
     },
     "output_type": "display_data"
    },
    {
     "data": {
      "image/png": "[encoded data removed]",
      "text/plain": [
       "<Figure size 432x288 with 4 Axes>"
      ]
     },
     "metadata": {
      "needs_background": "light"
     },
     "output_type": "display_data"
    }
   ],
   "source": [
    "# Note that period 0 represents the period before the shock with all entries of z equal to 0.\n",
    "# The shock happens in period 1.\n",
    "\n",
    "# create x representing each period from 0 to T = 30\n",
    "x = np.arange(T)\n",
    "\n",
    "# For the diagrams I do not comment on the lines as I think the commands are self-explanatory and the code is well structured.\n",
    "# the autocorrelated shock figure\n",
    "plt.figure()\n",
    "\n",
    "plt.suptitle(\"Autocorrelated shock\")\n",
    "\n",
    "plt.subplot(2,2,1)\n",
    "plt.plot(x,mu_0, linewidth = 4, linestyle = 'solid', color = 'blue')\n",
    "plt.xlabel('time')\n",
    "plt.ylabel('mu')\n",
    "\n",
    "plt.subplot(2,2,2)\n",
    "plt.plot(x,y_0, linewidth = 4, linestyle = 'dotted', color = 'green')\n",
    "plt.xlabel('time')\n",
    "plt.ylabel('y')\n",
    "\n",
    "plt.subplot(2,2,3)\n",
    "plt.plot(x,pi_0, linewidth = 4, linestyle = 'solid', color = 'orange')\n",
    "plt.xlabel('time')\n",
    "plt.ylabel('pi')\n",
    "\n",
    "plt.subplot(2,2,4)\n",
    "plt.plot(x,ni_0, linewidth = 4, linestyle = 'dotted', color = 'grey')\n",
    "plt.xlabel('time')\n",
    "plt.ylabel('ni')\n",
    "\n",
    "plt.tight_layout()\n",
    "plt.show()\n",
    "\n",
    "\n",
    "# The interest rate shock figure\n",
    "plt.figure()\n",
    "\n",
    "plt.suptitle(\"Interest rate shock\")\n",
    "\n",
    "plt.subplot(2,2,1)\n",
    "plt.plot(x,mu_1, linewidth = 4, linestyle = 'solid', color = 'blue')\n",
    "plt.xlabel('time')\n",
    "plt.ylabel('mu')\n",
    "plt.ylim(-0.01,0.01) # without the ylim the mu plot seems to be a curve,\n",
    "                       # however, it is scaled to only very small numbers which is misleading.\n",
    "\n",
    "plt.subplot(2,2,2)\n",
    "plt.plot(x,y_1, linewidth = 4, linestyle = 'dotted', color = 'green')\n",
    "plt.xlabel('time')\n",
    "plt.ylabel('y')\n",
    "\n",
    "plt.subplot(2,2,3)\n",
    "plt.plot(x,pi_1, linewidth = 4, linestyle = 'solid', color = 'orange')\n",
    "plt.xlabel('time')\n",
    "plt.ylabel('pi')\n",
    "\n",
    "plt.subplot(2,2,4)\n",
    "plt.plot(x,ni_1, linewidth = 4, linestyle = 'dotted', color = 'grey')\n",
    "plt.xlabel('time')\n",
    "plt.ylabel('ni')\n",
    "\n",
    "plt.tight_layout()\n",
    "plt.show()"
   ]
  },
  {
   "cell_type": "markdown",
   "metadata": {},
   "source": [
    "### Task 10\n",
    "Intuition of the variables' responses."
   ]
  },
  {
   "cell_type": "markdown",
   "metadata": {},
   "source": [
    "After a one period positive shock to mu, which represents an autocorrelated shock to inflation, the following happens: <br>\n",
    "A shock to mu is clearly represented in mu. After the initial jump by the exact size of the shock, mu steadily decreases until it converges to its initial value of 0. The steady and not abrupt decline is caused by the autocorrelation of the inflation shock which is represented by rho_mu = 0.7. Clearly, also inflation is affected by the shock to mu, as mu represents the autocorrelation of shocks to inflation. Hence, inflation's positive initial jump and the steady decline afterwards towards the initial value of 0 is very similar to the development of mu with the same intuition. The biggest cause of differences between mu's and inflation's development is caused by the effects of past inflation which can be inferred from C_pi. The intuition is that mu does not depend on past inflation values, while inflation indeed is negatively influenced by its past values and therefore converges faster. <br>\n",
    "Output levels are quite strongly negatively affected by a shock to mu, despite mu not directly appearing in y's equation. However, the indirect effects via nominal interest rate and expectations about output and inflation cause the negative jump. Similarily, the nominal interest rate is only indirectly influenced via the past values of output and inflation. Contrary to the other variables, its rise is delayed as it does depend on past values. Afterwards, however, output and nominal interest steadily converge towards their initial values as the effects of the initial shock steadily decrease as rho_mu equals 0.7 which is smaller than 1. <br> <br>\n",
    "\n",
    "After a one period positive shock to nominal interest rate, the following happens: <br>\n",
    "The nominal interest rate jumps positively as it is clearly influenced by its shock. In future periods, the interest rate is additionally influenced by past values of output and inflation. While output's effect is quite small the inflation effect is positive and quite large. This leads to a quite strong negative reaction, due to the negative jump of inflation, even jumping slightly below the initial value of interest rate. Afterwards, however, nominal interest rate converges quite quickly. <br>\n",
    "The inflation rate jumps slighlty down, followed by a jump overshooting the initial value and then converging quite quickly. The initial jump is caused by inflation rate's dependency on output level which indirectly delivers the effect of the interest rate shock. Future periods are still influenced by output which causes the convergence. <br>\n",
    "Output jumps somewhat down, followed by a jump slightly passing the inital value, followed by quick convergence. This behavior is caused by outputs strong negative relation with interest rate and therefore also its shocks. As inflation barely jumps, its effects can be neglected. Thus, output's behavior mirrors the interest rate's behavior, only with a negative sign and with a smaller magnitude. <br>\n",
    "The autocorrelated shock mu only depends on its shocks and its previous values. As no shocks to mu occur, mu never changes and stays at 0 for all periods. <br> \n",
    "We can explicitly note that after a shock to nominal interest rate, the model does not directly return to its steady state. This is caused by the above described indirect effects, e.g. inflation also being influenced by past values of output and inflation, which lead to a longer process of convergence towards the steady state. <br> <br>\n",
    "\n",
    "Comparing the effects of both shocks, we can clearly see that both shocks have different effects on the variables. This shouldn't come as a surprise since inflation and interest rate influence the model differently. What is more interesting is firstly, the magnitude of the effects, and secondly, the speed of convergence. Both are explained by the autocorrelation. The autocorrelated shock ensures that future periods are still affected by the initial shock and its indirect effects, which makes the effect size larger and leads to a slower convergence towards the steady state value."
   ]
  },
  {
   "cell_type": "markdown",
   "metadata": {
    "pycharm": {
     "name": "#%% md\n"
    }
   },
   "source": [
    "### Task 11\n",
    "Output and inflation of 500 periods with random shocks saved in dataframe."
   ]
  },
  {
   "cell_type": "markdown",
   "metadata": {
    "pycharm": {
     "name": "#%% md\n"
    }
   },
   "source": [
    "Number of periods and initializing the z-vectors:"
   ]
  },
  {
   "cell_type": "code",
   "execution_count": 16,
   "metadata": {
    "pycharm": {
     "name": "#%%\n"
    }
   },
   "outputs": [],
   "source": [
    "# number of periods\n",
    "T = 501\n",
    "\n",
    "# initializing the vectors for T periods\n",
    "mu     = np.zeros(T)\n",
    "y      = np.zeros(T)\n",
    "pi     = np.zeros(T)\n",
    "ni     = np.zeros(T)"
   ]
  },
  {
   "cell_type": "markdown",
   "metadata": {
    "pycharm": {
     "name": "#%% md\n"
    }
   },
   "source": [
    "Initializing the shocks:"
   ]
  },
  {
   "cell_type": "code",
   "execution_count": 17,
   "metadata": {
    "pycharm": {
     "name": "#%%\n"
    }
   },
   "outputs": [],
   "source": [
    "np.random.seed(0)                     # Random seed creates as if random data that stays the same, also if the code is executed again.\n",
    "err_mu = np.random.standard_normal(T) # Shocks for each period drawn from the standard normal distribution.\n",
    "                                      # Note that following the random.randn documentation, standard_normal should be preferred.\n",
    "err_ni = np.random.standard_normal(T) # Shocks for each period drawn from the standard normal distribution."
   ]
  },
  {
   "cell_type": "markdown",
   "metadata": {},
   "source": [
    "Run the loop:"
   ]
  },
  {
   "cell_type": "code",
   "execution_count": 18,
   "metadata": {
    "pycharm": {
     "name": "#%%\n"
    }
   },
   "outputs": [],
   "source": [
    "# the same loop as in tasks 7 and 8, now without the extension _x\n",
    "\n",
    "for t in range(1,T): #make sure that x[t-1] starts in period 0, and not in x[t-1]=x[0-1]=x[-1]=x[500].\n",
    "    mu[t] = (C_mu[0]*mu[t-1] + C_y[0]*y[t-1] + C_pi[0]*pi[t-1] +\n",
    "             C_err_mu[0]*err_mu[t] + C_err_ni[0]*err_ni[t])\n",
    "    y[t]  = (C_mu[1]*mu[t-1] + C_y[1]*y[t-1] + C_pi[1]*pi[t-1] +\n",
    "             C_err_mu[1]*err_mu[t] + C_err_ni[1]*err_ni[t])\n",
    "    pi[t] = (C_mu[2]*mu[t-1] + C_y[2]*y[t-1] + C_pi[2]*pi[t-1] +\n",
    "             C_err_mu[2]*err_mu[t] + C_err_ni[2]*err_ni[t])\n",
    "    ni[t] = (C_mu[3]*mu[t-1] + C_y[3]*y[t-1] + C_pi[3]*pi[t-1] +\n",
    "             C_err_mu[3]*err_mu[t] + C_err_ni[3]*err_ni[t])"
   ]
  },
  {
   "cell_type": "markdown",
   "metadata": {
    "pycharm": {
     "name": "#%% md\n"
    }
   },
   "source": [
    "Bring the resulting z values in a dataframe for output and inflation:"
   ]
  },
  {
   "cell_type": "code",
   "execution_count": 19,
   "metadata": {
    "pycharm": {
     "name": "#%%\n"
    }
   },
   "outputs": [
    {
     "data": {
      "text/html": [
       "<div>\n",
       "<style scoped>\n",
       "    .dataframe tbody tr th:only-of-type {\n",
       "        vertical-align: middle;\n",
       "    }\n",
       "\n",
       "    .dataframe tbody tr th {\n",
       "        vertical-align: top;\n",
       "    }\n",
       "\n",
       "    .dataframe thead th {\n",
       "        text-align: right;\n",
       "    }\n",
       "</style>\n",
       "<table border=\"1\" class=\"dataframe\">\n",
       "  <thead>\n",
       "    <tr style=\"text-align: right;\">\n",
       "      <th></th>\n",
       "      <th>Output_t</th>\n",
       "      <th>Inflation_t</th>\n",
       "    </tr>\n",
       "  </thead>\n",
       "  <tbody>\n",
       "    <tr>\n",
       "      <th>0</th>\n",
       "      <td>0.000000</td>\n",
       "      <td>0.000000</td>\n",
       "    </tr>\n",
       "    <tr>\n",
       "      <th>1</th>\n",
       "      <td>-1.429475</td>\n",
       "      <td>0.218572</td>\n",
       "    </tr>\n",
       "    <tr>\n",
       "      <th>2</th>\n",
       "      <td>-1.980715</td>\n",
       "      <td>1.261108</td>\n",
       "    </tr>\n",
       "    <tr>\n",
       "      <th>3</th>\n",
       "      <td>-5.968607</td>\n",
       "      <td>2.886961</td>\n",
       "    </tr>\n",
       "    <tr>\n",
       "      <th>4</th>\n",
       "      <td>-8.758738</td>\n",
       "      <td>3.517486</td>\n",
       "    </tr>\n",
       "    <tr>\n",
       "      <th>...</th>\n",
       "      <td>...</td>\n",
       "      <td>...</td>\n",
       "    </tr>\n",
       "    <tr>\n",
       "      <th>496</th>\n",
       "      <td>-3.514556</td>\n",
       "      <td>0.805768</td>\n",
       "    </tr>\n",
       "    <tr>\n",
       "      <th>497</th>\n",
       "      <td>-0.291689</td>\n",
       "      <td>0.358713</td>\n",
       "    </tr>\n",
       "    <tr>\n",
       "      <th>498</th>\n",
       "      <td>1.171640</td>\n",
       "      <td>-0.820281</td>\n",
       "    </tr>\n",
       "    <tr>\n",
       "      <th>499</th>\n",
       "      <td>1.421612</td>\n",
       "      <td>-0.543025</td>\n",
       "    </tr>\n",
       "    <tr>\n",
       "      <th>500</th>\n",
       "      <td>-0.056766</td>\n",
       "      <td>-0.099192</td>\n",
       "    </tr>\n",
       "  </tbody>\n",
       "</table>\n",
       "<p>501 rows × 2 columns</p>\n",
       "</div>"
      ],
      "text/plain": [
       "     Output_t  Inflation_t\n",
       "0    0.000000     0.000000\n",
       "1   -1.429475     0.218572\n",
       "2   -1.980715     1.261108\n",
       "3   -5.968607     2.886961\n",
       "4   -8.758738     3.517486\n",
       "..        ...          ...\n",
       "496 -3.514556     0.805768\n",
       "497 -0.291689     0.358713\n",
       "498  1.171640    -0.820281\n",
       "499  1.421612    -0.543025\n",
       "500 -0.056766    -0.099192\n",
       "\n",
       "[501 rows x 2 columns]"
      ]
     },
     "execution_count": 19,
     "metadata": {},
     "output_type": "execute_result"
    }
   ],
   "source": [
    "df = pd.DataFrame({'Output_t':y,'Inflation_t':pi}) # bringing the np.arrays into a dataframe using a dictionary\n",
    "                                                     # which is one way to properly assign names to the columns.\n",
    "\n",
    "df"
   ]
  },
  {
   "cell_type": "markdown",
   "metadata": {
    "pycharm": {
     "name": "#%% md\n"
    }
   },
   "source": [
    "For the intuition/ gaining a better feeling/ checking whether the numbers make sense:\n",
    "a rudimentary plot of output and inflation:"
   ]
  },
  {
   "cell_type": "code",
   "execution_count": 20,
   "metadata": {
    "pycharm": {
     "name": "#%%\n"
    }
   },
   "outputs": [
    {
     "data": {
      "image/png": "[encoded data removed]",
      "text/plain": [
       "<Figure size 432x288 with 1 Axes>"
      ]
     },
     "metadata": {
      "needs_background": "light"
     },
     "output_type": "display_data"
    }
   ],
   "source": [
    "x = np.arange(T)\n",
    "\n",
    "plt.figure()\n",
    "plt.plot(x,y,x,pi)\n",
    "plt.show()"
   ]
  },
  {
   "cell_type": "markdown",
   "metadata": {
    "pycharm": {
     "name": "#%% md\n"
    }
   },
   "source": [
    "### Task 12\n",
    "Rational expectations of inflation using MSV to be included in the dataframe."
   ]
  },
  {
   "cell_type": "markdown",
   "metadata": {
    "pycharm": {
     "name": "#%% md\n"
    }
   },
   "source": [
    "I start with E_t[z_{t+1}] = F\\*E_t[z_t] + Q\\*E_t[u_{t+1}]. <br> \n",
    "As errors are white noise, I know: E_t\\[u_{t+1}] = 0. <br> \n",
    "Also, the expectations of the z vector of the same period is the realized vector itself: E_t[z_t] = z_t <br>\n",
    "Hence, the expectations simplify to E_t\\[z_{t+1}] = F*z_t. <br>\n",
    "I am solely looking for the expectation of inflation which is the third entry of the expectation\n",
    "vector."
   ]
  },
  {
   "cell_type": "code",
   "execution_count": 21,
   "metadata": {
    "pycharm": {
     "name": "#%%\n"
    },
    "scrolled": true
   },
   "outputs": [
    {
     "data": {
      "text/html": [
       "<div>\n",
       "<style scoped>\n",
       "    .dataframe tbody tr th:only-of-type {\n",
       "        vertical-align: middle;\n",
       "    }\n",
       "\n",
       "    .dataframe tbody tr th {\n",
       "        vertical-align: top;\n",
       "    }\n",
       "\n",
       "    .dataframe thead th {\n",
       "        text-align: right;\n",
       "    }\n",
       "</style>\n",
       "<table border=\"1\" class=\"dataframe\">\n",
       "  <thead>\n",
       "    <tr style=\"text-align: right;\">\n",
       "      <th></th>\n",
       "      <th>Output_t</th>\n",
       "      <th>Inflation_t</th>\n",
       "      <th>E_t[Inflation_{t+1}]</th>\n",
       "    </tr>\n",
       "  </thead>\n",
       "  <tbody>\n",
       "    <tr>\n",
       "      <th>0</th>\n",
       "      <td>0.000000</td>\n",
       "      <td>0.000000</td>\n",
       "      <td>0.000000</td>\n",
       "    </tr>\n",
       "    <tr>\n",
       "      <th>1</th>\n",
       "      <td>-1.429475</td>\n",
       "      <td>0.218572</td>\n",
       "      <td>0.248500</td>\n",
       "    </tr>\n",
       "    <tr>\n",
       "      <th>2</th>\n",
       "      <td>-1.980715</td>\n",
       "      <td>1.261108</td>\n",
       "      <td>0.599472</td>\n",
       "    </tr>\n",
       "    <tr>\n",
       "      <th>3</th>\n",
       "      <td>-5.968607</td>\n",
       "      <td>2.886961</td>\n",
       "      <td>1.563273</td>\n",
       "    </tr>\n",
       "    <tr>\n",
       "      <th>4</th>\n",
       "      <td>-8.758738</td>\n",
       "      <td>3.517486</td>\n",
       "      <td>2.102601</td>\n",
       "    </tr>\n",
       "    <tr>\n",
       "      <th>...</th>\n",
       "      <td>...</td>\n",
       "      <td>...</td>\n",
       "      <td>...</td>\n",
       "    </tr>\n",
       "    <tr>\n",
       "      <th>496</th>\n",
       "      <td>-3.514556</td>\n",
       "      <td>0.805768</td>\n",
       "      <td>0.682430</td>\n",
       "    </tr>\n",
       "    <tr>\n",
       "      <th>497</th>\n",
       "      <td>-0.291689</td>\n",
       "      <td>0.358713</td>\n",
       "      <td>0.134343</td>\n",
       "    </tr>\n",
       "    <tr>\n",
       "      <th>498</th>\n",
       "      <td>1.171640</td>\n",
       "      <td>-0.820281</td>\n",
       "      <td>-0.374387</td>\n",
       "    </tr>\n",
       "    <tr>\n",
       "      <th>499</th>\n",
       "      <td>1.421612</td>\n",
       "      <td>-0.543025</td>\n",
       "      <td>-0.333843</td>\n",
       "    </tr>\n",
       "    <tr>\n",
       "      <th>500</th>\n",
       "      <td>-0.056766</td>\n",
       "      <td>-0.099192</td>\n",
       "      <td>-0.018854</td>\n",
       "    </tr>\n",
       "  </tbody>\n",
       "</table>\n",
       "<p>501 rows × 3 columns</p>\n",
       "</div>"
      ],
      "text/plain": [
       "     Output_t  Inflation_t  E_t[Inflation_{t+1}]\n",
       "0    0.000000     0.000000              0.000000\n",
       "1   -1.429475     0.218572              0.248500\n",
       "2   -1.980715     1.261108              0.599472\n",
       "3   -5.968607     2.886961              1.563273\n",
       "4   -8.758738     3.517486              2.102601\n",
       "..        ...          ...                   ...\n",
       "496 -3.514556     0.805768              0.682430\n",
       "497 -0.291689     0.358713              0.134343\n",
       "498  1.171640    -0.820281             -0.374387\n",
       "499  1.421612    -0.543025             -0.333843\n",
       "500 -0.056766    -0.099192             -0.018854\n",
       "\n",
       "[501 rows x 3 columns]"
      ]
     },
     "execution_count": 21,
     "metadata": {},
     "output_type": "execute_result"
    }
   ],
   "source": [
    "# initializing the expectations vector, using the same T=500 as before\n",
    "E_pi = np.zeros(T)\n",
    "\n",
    "# Looping through the periods.\n",
    "# Note that I make use of the previosly determined C-vectors and the mu, y and pi values.\n",
    "# Note that I assign E_t[pi_{t+1}] to period t, namely to the period in which the expectations are formed. \n",
    "for t in range(T):\n",
    "    E_pi[t] = C_mu[2]*mu[t] + C_y[2]*y[t] + C_pi[2]*pi[t]\n",
    "\n",
    "# add E_t[pi_{t+1}] to the dataframe\n",
    "df['E_t[Inflation_{t+1}]'] = E_pi\n",
    "\n",
    "df"
   ]
  },
  {
   "cell_type": "markdown",
   "metadata": {
    "pycharm": {
     "name": "#%% md\n"
    }
   },
   "source": [
    "### Task 13\n",
    "Forecast error represented by the difference of realized and expected inflation."
   ]
  },
  {
   "cell_type": "code",
   "execution_count": 22,
   "metadata": {
    "scrolled": false
   },
   "outputs": [
    {
     "data": {
      "text/html": [
       "<div>\n",
       "<style scoped>\n",
       "    .dataframe tbody tr th:only-of-type {\n",
       "        vertical-align: middle;\n",
       "    }\n",
       "\n",
       "    .dataframe tbody tr th {\n",
       "        vertical-align: top;\n",
       "    }\n",
       "\n",
       "    .dataframe thead th {\n",
       "        text-align: right;\n",
       "    }\n",
       "</style>\n",
       "<table border=\"1\" class=\"dataframe\">\n",
       "  <thead>\n",
       "    <tr style=\"text-align: right;\">\n",
       "      <th></th>\n",
       "      <th>Output_t</th>\n",
       "      <th>Inflation_t</th>\n",
       "      <th>Inflation_{t+1}</th>\n",
       "      <th>E_t[Inflation_{t+1}]</th>\n",
       "      <th>Delta</th>\n",
       "    </tr>\n",
       "  </thead>\n",
       "  <tbody>\n",
       "    <tr>\n",
       "      <th>0</th>\n",
       "      <td>0.000000</td>\n",
       "      <td>0.000000</td>\n",
       "      <td>0.218572</td>\n",
       "      <td>0.000000</td>\n",
       "      <td>0.218572</td>\n",
       "    </tr>\n",
       "    <tr>\n",
       "      <th>1</th>\n",
       "      <td>-1.429475</td>\n",
       "      <td>0.218572</td>\n",
       "      <td>1.261108</td>\n",
       "      <td>0.248500</td>\n",
       "      <td>1.012608</td>\n",
       "    </tr>\n",
       "    <tr>\n",
       "      <th>2</th>\n",
       "      <td>-1.980715</td>\n",
       "      <td>1.261108</td>\n",
       "      <td>2.886961</td>\n",
       "      <td>0.599472</td>\n",
       "      <td>2.287489</td>\n",
       "    </tr>\n",
       "    <tr>\n",
       "      <th>3</th>\n",
       "      <td>-5.968607</td>\n",
       "      <td>2.886961</td>\n",
       "      <td>3.517486</td>\n",
       "      <td>1.563273</td>\n",
       "      <td>1.954213</td>\n",
       "    </tr>\n",
       "    <tr>\n",
       "      <th>4</th>\n",
       "      <td>-8.758738</td>\n",
       "      <td>3.517486</td>\n",
       "      <td>1.397496</td>\n",
       "      <td>2.102601</td>\n",
       "      <td>-0.705105</td>\n",
       "    </tr>\n",
       "    <tr>\n",
       "      <th>...</th>\n",
       "      <td>...</td>\n",
       "      <td>...</td>\n",
       "      <td>...</td>\n",
       "      <td>...</td>\n",
       "      <td>...</td>\n",
       "    </tr>\n",
       "    <tr>\n",
       "      <th>495</th>\n",
       "      <td>-7.243817</td>\n",
       "      <td>1.924288</td>\n",
       "      <td>0.805768</td>\n",
       "      <td>1.476717</td>\n",
       "      <td>-0.670949</td>\n",
       "    </tr>\n",
       "    <tr>\n",
       "      <th>496</th>\n",
       "      <td>-3.514556</td>\n",
       "      <td>0.805768</td>\n",
       "      <td>0.358713</td>\n",
       "      <td>0.682430</td>\n",
       "      <td>-0.323717</td>\n",
       "    </tr>\n",
       "    <tr>\n",
       "      <th>497</th>\n",
       "      <td>-0.291689</td>\n",
       "      <td>0.358713</td>\n",
       "      <td>-0.820281</td>\n",
       "      <td>0.134343</td>\n",
       "      <td>-0.954624</td>\n",
       "    </tr>\n",
       "    <tr>\n",
       "      <th>498</th>\n",
       "      <td>1.171640</td>\n",
       "      <td>-0.820281</td>\n",
       "      <td>-0.543025</td>\n",
       "      <td>-0.374387</td>\n",
       "      <td>-0.168639</td>\n",
       "    </tr>\n",
       "    <tr>\n",
       "      <th>499</th>\n",
       "      <td>1.421612</td>\n",
       "      <td>-0.543025</td>\n",
       "      <td>-0.099192</td>\n",
       "      <td>-0.333843</td>\n",
       "      <td>0.234651</td>\n",
       "    </tr>\n",
       "  </tbody>\n",
       "</table>\n",
       "<p>500 rows × 5 columns</p>\n",
       "</div>"
      ],
      "text/plain": [
       "     Output_t  Inflation_t  Inflation_{t+1}  E_t[Inflation_{t+1}]     Delta\n",
       "0    0.000000     0.000000         0.218572              0.000000  0.218572\n",
       "1   -1.429475     0.218572         1.261108              0.248500  1.012608\n",
       "2   -1.980715     1.261108         2.886961              0.599472  2.287489\n",
       "3   -5.968607     2.886961         3.517486              1.563273  1.954213\n",
       "4   -8.758738     3.517486         1.397496              2.102601 -0.705105\n",
       "..        ...          ...              ...                   ...       ...\n",
       "495 -7.243817     1.924288         0.805768              1.476717 -0.670949\n",
       "496 -3.514556     0.805768         0.358713              0.682430 -0.323717\n",
       "497 -0.291689     0.358713        -0.820281              0.134343 -0.954624\n",
       "498  1.171640    -0.820281        -0.543025             -0.374387 -0.168639\n",
       "499  1.421612    -0.543025        -0.099192             -0.333843  0.234651\n",
       "\n",
       "[500 rows x 5 columns]"
      ]
     },
     "execution_count": 22,
     "metadata": {},
     "output_type": "execute_result"
    }
   ],
   "source": [
    "# shifting inflation one period backwards and thereby creating inflation_{t+1}:\n",
    "df['Inflation_{t+1}'] = df['Inflation_t'].shift(periods=-1)\n",
    "\n",
    "# drop the last period as Inflation(501) does not exist:\n",
    "df = df.drop(500)\n",
    "\n",
    "# determine the difference between realizations and expectations:\n",
    "df['Delta'] = df['Inflation_{t+1}'] - df['E_t[Inflation_{t+1}]']\n",
    "\n",
    "# reordering columns to an intuive order:\n",
    "header_order = ['Output_t','Inflation_t','Inflation_{t+1}','E_t[Inflation_{t+1}]','Delta']\n",
    "df = df.reindex(columns=header_order)\n",
    "\n",
    "df"
   ]
  },
  {
   "cell_type": "markdown",
   "metadata": {
    "pycharm": {
     "name": "#%% md\n"
    }
   },
   "source": [
    "For the intuition/ gaining a better feeling/ checking whether the numbers make sense:\n",
    "a rudimentary plot of inflation, expected inflation, and the difference between both:"
   ]
  },
  {
   "cell_type": "code",
   "execution_count": 23,
   "metadata": {},
   "outputs": [
    {
     "data": {
      "image/png": "[encoded data removed]",
      "text/plain": [
       "<Figure size 432x288 with 1 Axes>"
      ]
     },
     "metadata": {
      "needs_background": "light"
     },
     "output_type": "display_data"
    }
   ],
   "source": [
    "x = np.arange(T-1)\n",
    "plt.figure()\n",
    "plt.plot(x,np.array(df['Inflation_{t+1}']),x,np.array(df['E_t[Inflation_{t+1}]']))\n",
    "plt.plot(x,np.array(df['Delta']), linestyle = 'dotted')\n",
    "plt.show()\n",
    "\n",
    "# in case the first diagram is to messy and the deltas should be displayed seperately\n",
    "#plt.figure()\n",
    "#plt.plot(x,np.array(df['Delta']))\n",
    "#plt.show()"
   ]
  },
  {
   "cell_type": "markdown",
   "metadata": {
    "pycharm": {
     "name": "#%% md\n"
    }
   },
   "source": [
    "### Task 14\n",
    "OLS regression of delta on inflation and interpretation."
   ]
  },
  {
   "cell_type": "code",
   "execution_count": 24,
   "metadata": {
    "pycharm": {
     "name": "#%%\n"
    }
   },
   "outputs": [
    {
     "name": "stdout",
     "output_type": "stream",
     "text": [
      "                            OLS Regression Results                            \n",
      "==============================================================================\n",
      "Dep. Variable:                  Delta   R-squared:                       0.001\n",
      "Model:                            OLS   Adj. R-squared:                 -0.001\n",
      "Method:                 Least Squares   F-statistic:                    0.2911\n",
      "Date:                Fri, 12 Mar 2021   Prob (F-statistic):              0.590\n",
      "Time:                        20:05:27   Log-Likelihood:                -711.64\n",
      "No. Observations:                 500   AIC:                             1427.\n",
      "Df Residuals:                     498   BIC:                             1436.\n",
      "Df Model:                           1                                         \n",
      "Covariance Type:            nonrobust                                         \n",
      "===============================================================================\n",
      "                  coef    std err          t      P>|t|      [0.025      0.975]\n",
      "-------------------------------------------------------------------------------\n",
      "const          -0.0163      0.045     -0.362      0.717      -0.105       0.072\n",
      "Inflation_t     0.0192      0.036      0.540      0.590      -0.051       0.089\n",
      "==============================================================================\n",
      "Omnibus:                        0.459   Durbin-Watson:                   2.050\n",
      "Prob(Omnibus):                  0.795   Jarque-Bera (JB):                0.570\n",
      "Skew:                           0.017   Prob(JB):                        0.752\n",
      "Kurtosis:                       2.838   Cond. No.                         1.28\n",
      "==============================================================================\n",
      "\n",
      "Warnings:\n",
      "[1] Standard Errors assume that the covariance matrix of the errors is correctly specified.\n",
      "alpha = -0.016331909855843978\n",
      "beta = 0.01918625312564578\n"
     ]
    }
   ],
   "source": [
    "endog = df['Delta']                        # input of dependent variable\n",
    "exog  = sm.add_constant(df['Inflation_t']) # input of independent variable and adding a constant\n",
    "\n",
    "model   = sm.OLS(endog,exog)               # initializing the OLS model\n",
    "fit     = model.fit()                      # fitting the model\n",
    "\n",
    "summary     = fit.summary()                # the standard econometric results table\n",
    "alpha, beta = fit.params                   # the alpha and beta estimates\n",
    "\n",
    "print(summary)\n",
    "print('alpha =', alpha)\n",
    "print('beta =', beta)"
   ]
  },
  {
   "cell_type": "markdown",
   "metadata": {
    "pycharm": {
     "name": "#%% md\n"
    }
   },
   "source": [
    "The intuition of alpha is that it captures a general systematic prediction error. The intuition of beta is that it captures the part of the prediction error that depends linearly on the current level of inflation. <br> <br>\n",
    "\n",
    "Both, alpha and beta are only slighly different from zero and have large p-values, namely 0.72 and 0.59 respectively. Therefore, both coefficients are statistically non-significant. Hence, we can deduce that agents do not make systematic predicion errors irrespective of today's value of inflation. <br> <br>\n",
    "\n",
    "This is contrary to the previous problem sets. Furthermore, using past values to determine the z-vector and autocorrelation give further motivation to look for systematic errors. However, the F-matrix with the C_mu vector accurately takes care of the autocorrelation and the other three columns of the F-matrix accurately take into account the other previous realization of z. <br> <br>\n",
    "\n",
    "The white noise shocks bring the F-statistic down to a value of 0.29 as their variance of 1 is quite large since we consider a log-linearized model. However, the positive and negative shocks cancel each other out on average, keeping the expected values unbiased, and hence, leaving alpha and beta at zero."
   ]
  }
 ],
 "metadata": {
  "kernelspec": {
   "display_name": "Python 3",
   "language": "python",
   "name": "python3"
  },
  "language_info": {
   "codemirror_mode": {
    "name": "ipython",
    "version": 3
   },
   "file_extension": ".py",
   "mimetype": "text/x-python",
   "name": "python",
   "nbconvert_exporter": "python",
   "pygments_lexer": "ipython3",
   "version": "3.7.3"
  }
 },
 "nbformat": 4,
 "nbformat_minor": 1
}
